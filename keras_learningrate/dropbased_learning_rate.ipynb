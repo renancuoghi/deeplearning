{
 "cells": [
  {
   "cell_type": "code",
   "execution_count": 8,
   "metadata": {
    "collapsed": true
   },
   "outputs": [],
   "source": [
    "from pandas import read_csv\n",
    "import numpy\n",
    "import math\n",
    "from keras.models import Sequential\n",
    "from keras.layers import Dense\n",
    "from keras.optimizers import SGD # stochastic gradient descent\n",
    "from sklearn.preprocessing import LabelEncoder\n",
    "from keras.callbacks import LearningRateScheduler"
   ]
  },
  {
   "cell_type": "code",
   "execution_count": 2,
   "metadata": {
    "collapsed": true
   },
   "outputs": [],
   "source": [
    "#fix random seed\n",
    "seed = 7\n",
    "numpy.random.seed(seed)"
   ]
  },
  {
   "cell_type": "code",
   "execution_count": 3,
   "metadata": {
    "collapsed": true
   },
   "outputs": [],
   "source": [
    "dataframe = read_csv(\"../datasets/ionosphere.csv\")"
   ]
  },
  {
   "cell_type": "code",
   "execution_count": 4,
   "metadata": {
    "collapsed": false
   },
   "outputs": [
    {
     "data": {
      "text/html": [
       "<div>\n",
       "<table border=\"1\" class=\"dataframe\">\n",
       "  <thead>\n",
       "    <tr style=\"text-align: right;\">\n",
       "      <th></th>\n",
       "      <th>1</th>\n",
       "      <th>0</th>\n",
       "      <th>0.99539</th>\n",
       "      <th>-0.05889</th>\n",
       "      <th>0.85243</th>\n",
       "      <th>0.02306</th>\n",
       "      <th>0.83398</th>\n",
       "      <th>-0.37708</th>\n",
       "      <th>1.1</th>\n",
       "      <th>0.03760</th>\n",
       "      <th>...</th>\n",
       "      <th>-0.51171</th>\n",
       "      <th>0.41078</th>\n",
       "      <th>-0.46168</th>\n",
       "      <th>0.21266</th>\n",
       "      <th>-0.34090</th>\n",
       "      <th>0.42267</th>\n",
       "      <th>-0.54487</th>\n",
       "      <th>0.18641</th>\n",
       "      <th>-0.45300</th>\n",
       "      <th>g</th>\n",
       "    </tr>\n",
       "  </thead>\n",
       "  <tbody>\n",
       "    <tr>\n",
       "      <th>0</th>\n",
       "      <td>1</td>\n",
       "      <td>0</td>\n",
       "      <td>1.00000</td>\n",
       "      <td>-0.18829</td>\n",
       "      <td>0.93035</td>\n",
       "      <td>-0.36156</td>\n",
       "      <td>-0.10868</td>\n",
       "      <td>-0.93597</td>\n",
       "      <td>1.00000</td>\n",
       "      <td>-0.04549</td>\n",
       "      <td>...</td>\n",
       "      <td>-0.26569</td>\n",
       "      <td>-0.20468</td>\n",
       "      <td>-0.18401</td>\n",
       "      <td>-0.19040</td>\n",
       "      <td>-0.11593</td>\n",
       "      <td>-0.16626</td>\n",
       "      <td>-0.06288</td>\n",
       "      <td>-0.13738</td>\n",
       "      <td>-0.02447</td>\n",
       "      <td>b</td>\n",
       "    </tr>\n",
       "    <tr>\n",
       "      <th>1</th>\n",
       "      <td>1</td>\n",
       "      <td>0</td>\n",
       "      <td>1.00000</td>\n",
       "      <td>-0.03365</td>\n",
       "      <td>1.00000</td>\n",
       "      <td>0.00485</td>\n",
       "      <td>1.00000</td>\n",
       "      <td>-0.12062</td>\n",
       "      <td>0.88965</td>\n",
       "      <td>0.01198</td>\n",
       "      <td>...</td>\n",
       "      <td>-0.40220</td>\n",
       "      <td>0.58984</td>\n",
       "      <td>-0.22145</td>\n",
       "      <td>0.43100</td>\n",
       "      <td>-0.17365</td>\n",
       "      <td>0.60436</td>\n",
       "      <td>-0.24180</td>\n",
       "      <td>0.56045</td>\n",
       "      <td>-0.38238</td>\n",
       "      <td>g</td>\n",
       "    </tr>\n",
       "    <tr>\n",
       "      <th>2</th>\n",
       "      <td>1</td>\n",
       "      <td>0</td>\n",
       "      <td>1.00000</td>\n",
       "      <td>-0.45161</td>\n",
       "      <td>1.00000</td>\n",
       "      <td>1.00000</td>\n",
       "      <td>0.71216</td>\n",
       "      <td>-1.00000</td>\n",
       "      <td>0.00000</td>\n",
       "      <td>0.00000</td>\n",
       "      <td>...</td>\n",
       "      <td>0.90695</td>\n",
       "      <td>0.51613</td>\n",
       "      <td>1.00000</td>\n",
       "      <td>1.00000</td>\n",
       "      <td>-0.20099</td>\n",
       "      <td>0.25682</td>\n",
       "      <td>1.00000</td>\n",
       "      <td>-0.32382</td>\n",
       "      <td>1.00000</td>\n",
       "      <td>b</td>\n",
       "    </tr>\n",
       "    <tr>\n",
       "      <th>3</th>\n",
       "      <td>1</td>\n",
       "      <td>0</td>\n",
       "      <td>1.00000</td>\n",
       "      <td>-0.02401</td>\n",
       "      <td>0.94140</td>\n",
       "      <td>0.06531</td>\n",
       "      <td>0.92106</td>\n",
       "      <td>-0.23255</td>\n",
       "      <td>0.77152</td>\n",
       "      <td>-0.16399</td>\n",
       "      <td>...</td>\n",
       "      <td>-0.65158</td>\n",
       "      <td>0.13290</td>\n",
       "      <td>-0.53206</td>\n",
       "      <td>0.02431</td>\n",
       "      <td>-0.62197</td>\n",
       "      <td>-0.05707</td>\n",
       "      <td>-0.59573</td>\n",
       "      <td>-0.04608</td>\n",
       "      <td>-0.65697</td>\n",
       "      <td>g</td>\n",
       "    </tr>\n",
       "    <tr>\n",
       "      <th>4</th>\n",
       "      <td>1</td>\n",
       "      <td>0</td>\n",
       "      <td>0.02337</td>\n",
       "      <td>-0.00592</td>\n",
       "      <td>-0.09924</td>\n",
       "      <td>-0.11949</td>\n",
       "      <td>-0.00763</td>\n",
       "      <td>-0.11824</td>\n",
       "      <td>0.14706</td>\n",
       "      <td>0.06637</td>\n",
       "      <td>...</td>\n",
       "      <td>-0.01535</td>\n",
       "      <td>-0.03240</td>\n",
       "      <td>0.09223</td>\n",
       "      <td>-0.07859</td>\n",
       "      <td>0.00732</td>\n",
       "      <td>0.00000</td>\n",
       "      <td>0.00000</td>\n",
       "      <td>-0.00039</td>\n",
       "      <td>0.12011</td>\n",
       "      <td>b</td>\n",
       "    </tr>\n",
       "  </tbody>\n",
       "</table>\n",
       "<p>5 rows × 35 columns</p>\n",
       "</div>"
      ],
      "text/plain": [
       "   1  0  0.99539  -0.05889  0.85243  0.02306  0.83398  -0.37708      1.1  \\\n",
       "0  1  0  1.00000  -0.18829  0.93035 -0.36156 -0.10868  -0.93597  1.00000   \n",
       "1  1  0  1.00000  -0.03365  1.00000  0.00485  1.00000  -0.12062  0.88965   \n",
       "2  1  0  1.00000  -0.45161  1.00000  1.00000  0.71216  -1.00000  0.00000   \n",
       "3  1  0  1.00000  -0.02401  0.94140  0.06531  0.92106  -0.23255  0.77152   \n",
       "4  1  0  0.02337  -0.00592 -0.09924 -0.11949 -0.00763  -0.11824  0.14706   \n",
       "\n",
       "   0.03760 ...  -0.51171  0.41078  -0.46168  0.21266  -0.34090  0.42267  \\\n",
       "0 -0.04549 ...  -0.26569 -0.20468  -0.18401 -0.19040  -0.11593 -0.16626   \n",
       "1  0.01198 ...  -0.40220  0.58984  -0.22145  0.43100  -0.17365  0.60436   \n",
       "2  0.00000 ...   0.90695  0.51613   1.00000  1.00000  -0.20099  0.25682   \n",
       "3 -0.16399 ...  -0.65158  0.13290  -0.53206  0.02431  -0.62197 -0.05707   \n",
       "4  0.06637 ...  -0.01535 -0.03240   0.09223 -0.07859   0.00732  0.00000   \n",
       "\n",
       "   -0.54487  0.18641  -0.45300  g  \n",
       "0  -0.06288 -0.13738  -0.02447  b  \n",
       "1  -0.24180  0.56045  -0.38238  g  \n",
       "2   1.00000 -0.32382   1.00000  b  \n",
       "3  -0.59573 -0.04608  -0.65697  g  \n",
       "4   0.00000 -0.00039   0.12011  b  \n",
       "\n",
       "[5 rows x 35 columns]"
      ]
     },
     "execution_count": 4,
     "metadata": {},
     "output_type": "execute_result"
    }
   ],
   "source": [
    "dataframe.head()"
   ]
  },
  {
   "cell_type": "code",
   "execution_count": 5,
   "metadata": {
    "collapsed": false
   },
   "outputs": [],
   "source": [
    "dataset = dataframe.values"
   ]
  },
  {
   "cell_type": "code",
   "execution_count": 6,
   "metadata": {
    "collapsed": true
   },
   "outputs": [],
   "source": [
    "# split into input (X) and output (Y) variables\n",
    "X = dataset[:,0:34].astype(float)\n",
    "Y = dataset[:,34]"
   ]
  },
  {
   "cell_type": "code",
   "execution_count": 7,
   "metadata": {
    "collapsed": false
   },
   "outputs": [
    {
     "data": {
      "text/plain": [
       "array([0, 1])"
      ]
     },
     "execution_count": 7,
     "metadata": {},
     "output_type": "execute_result"
    }
   ],
   "source": [
    "# encode class values as integers\n",
    "encoder = LabelEncoder()\n",
    "encoder.fit(Y)\n",
    "Y = encoder.transform(Y)\n",
    "numpy.unique(Y)"
   ]
  },
  {
   "cell_type": "code",
   "execution_count": 9,
   "metadata": {
    "collapsed": true
   },
   "outputs": [],
   "source": [
    "#learning rate schedule\n",
    "def step_decay(epoch):\n",
    "    initial_lrate = 0.1\n",
    "    drop = 0.5\n",
    "    epochs_drop = 10.0\n",
    "    lrate = initial_lrate * math.pow(drop,math.floor((1+epoch)/epochs_drop))\n",
    "    return lrate"
   ]
  },
  {
   "cell_type": "code",
   "execution_count": 10,
   "metadata": {
    "collapsed": false
   },
   "outputs": [],
   "source": [
    "# create model\n",
    "model = Sequential()\n",
    "model.add(Dense(34, input_dim=34, kernel_initializer= 'normal' , activation= 'relu' ))\n",
    "model.add(Dense(1, kernel_initializer= 'normal' , activation= 'sigmoid' ))"
   ]
  },
  {
   "cell_type": "code",
   "execution_count": 11,
   "metadata": {
    "collapsed": true
   },
   "outputs": [],
   "source": [
    "# Compile model\n",
    "momentum = 0.9\n",
    "sgd = SGD(lr=0.0, momentum=momentum, decay=0.0, nesterov=False)\n",
    "model.compile(loss= 'binary_crossentropy' , optimizer=sgd, metrics=[ 'accuracy' ])"
   ]
  },
  {
   "cell_type": "code",
   "execution_count": 12,
   "metadata": {
    "collapsed": true
   },
   "outputs": [],
   "source": [
    "#learning schedule callback\n",
    "lrate = LearningRateScheduler(step_decay);\n",
    "callbacks_list = [lrate]"
   ]
  },
  {
   "cell_type": "code",
   "execution_count": 13,
   "metadata": {
    "collapsed": false
   },
   "outputs": [
    {
     "name": "stdout",
     "output_type": "stream",
     "text": [
      "Train on 234 samples, validate on 116 samples\n",
      "Epoch 1/50\n",
      "0s - loss: 0.6818 - acc: 0.6239 - val_loss: 0.6286 - val_acc: 0.8534\n",
      "Epoch 2/50\n",
      "0s - loss: 0.6188 - acc: 0.7479 - val_loss: 0.4475 - val_acc: 0.8966\n",
      "Epoch 3/50\n",
      "0s - loss: 0.5052 - acc: 0.8291 - val_loss: 0.4624 - val_acc: 0.9052\n",
      "Epoch 4/50\n",
      "0s - loss: 0.3682 - acc: 0.8462 - val_loss: 0.3084 - val_acc: 0.9138\n",
      "Epoch 5/50\n",
      "0s - loss: 0.2760 - acc: 0.8932 - val_loss: 0.1462 - val_acc: 0.9655\n",
      "Epoch 6/50\n",
      "0s - loss: 0.2127 - acc: 0.9145 - val_loss: 0.2575 - val_acc: 0.9138\n",
      "Epoch 7/50\n",
      "0s - loss: 0.1997 - acc: 0.9188 - val_loss: 0.1425 - val_acc: 0.9741\n",
      "Epoch 8/50\n",
      "0s - loss: 0.1638 - acc: 0.9359 - val_loss: 0.1532 - val_acc: 0.9828\n",
      "Epoch 9/50\n",
      "0s - loss: 0.1583 - acc: 0.9274 - val_loss: 0.2489 - val_acc: 0.9052\n",
      "Epoch 10/50\n",
      "0s - loss: 0.1497 - acc: 0.9530 - val_loss: 0.0889 - val_acc: 0.9828\n",
      "Epoch 11/50\n",
      "0s - loss: 0.1325 - acc: 0.9530 - val_loss: 0.1623 - val_acc: 0.9828\n",
      "Epoch 12/50\n",
      "0s - loss: 0.1101 - acc: 0.9744 - val_loss: 0.0798 - val_acc: 0.9828\n",
      "Epoch 13/50\n",
      "0s - loss: 0.1314 - acc: 0.9530 - val_loss: 0.1201 - val_acc: 0.9828\n",
      "Epoch 14/50\n",
      "0s - loss: 0.1142 - acc: 0.9573 - val_loss: 0.0722 - val_acc: 0.9914\n",
      "Epoch 15/50\n",
      "0s - loss: 0.1082 - acc: 0.9615 - val_loss: 0.1058 - val_acc: 0.9914\n",
      "Epoch 16/50\n",
      "0s - loss: 0.0934 - acc: 0.9658 - val_loss: 0.0856 - val_acc: 0.9914\n",
      "Epoch 17/50\n",
      "0s - loss: 0.0878 - acc: 0.9786 - val_loss: 0.0779 - val_acc: 0.9914\n",
      "Epoch 18/50\n",
      "0s - loss: 0.0811 - acc: 0.9786 - val_loss: 0.0873 - val_acc: 0.9914\n",
      "Epoch 19/50\n",
      "0s - loss: 0.0808 - acc: 0.9744 - val_loss: 0.0754 - val_acc: 0.9914\n",
      "Epoch 20/50\n",
      "0s - loss: 0.0798 - acc: 0.9829 - val_loss: 0.0646 - val_acc: 0.9914\n",
      "Epoch 21/50\n",
      "0s - loss: 0.0780 - acc: 0.9786 - val_loss: 0.1018 - val_acc: 0.9914\n",
      "Epoch 22/50\n",
      "0s - loss: 0.0718 - acc: 0.9829 - val_loss: 0.0697 - val_acc: 0.9914\n",
      "Epoch 23/50\n",
      "0s - loss: 0.0755 - acc: 0.9786 - val_loss: 0.0708 - val_acc: 0.9914\n",
      "Epoch 24/50\n",
      "0s - loss: 0.0697 - acc: 0.9786 - val_loss: 0.0911 - val_acc: 0.9914\n",
      "Epoch 25/50\n",
      "0s - loss: 0.0685 - acc: 0.9829 - val_loss: 0.0714 - val_acc: 0.9914\n",
      "Epoch 26/50\n",
      "0s - loss: 0.0681 - acc: 0.9829 - val_loss: 0.0721 - val_acc: 0.9914\n",
      "Epoch 27/50\n",
      "0s - loss: 0.0661 - acc: 0.9829 - val_loss: 0.0709 - val_acc: 0.9914\n",
      "Epoch 28/50\n",
      "0s - loss: 0.0649 - acc: 0.9829 - val_loss: 0.0687 - val_acc: 0.9914\n",
      "Epoch 29/50\n",
      "0s - loss: 0.0629 - acc: 0.9829 - val_loss: 0.0745 - val_acc: 0.9914\n",
      "Epoch 30/50\n",
      "0s - loss: 0.0624 - acc: 0.9829 - val_loss: 0.0770 - val_acc: 0.9914\n",
      "Epoch 31/50\n",
      "0s - loss: 0.0619 - acc: 0.9829 - val_loss: 0.0700 - val_acc: 0.9914\n",
      "Epoch 32/50\n",
      "0s - loss: 0.0608 - acc: 0.9829 - val_loss: 0.0740 - val_acc: 0.9914\n",
      "Epoch 33/50\n",
      "0s - loss: 0.0599 - acc: 0.9829 - val_loss: 0.0710 - val_acc: 0.9914\n",
      "Epoch 34/50\n",
      "0s - loss: 0.0601 - acc: 0.9829 - val_loss: 0.0675 - val_acc: 0.9914\n",
      "Epoch 35/50\n",
      "0s - loss: 0.0595 - acc: 0.9829 - val_loss: 0.0695 - val_acc: 0.9914\n",
      "Epoch 36/50\n",
      "0s - loss: 0.0586 - acc: 0.9829 - val_loss: 0.0705 - val_acc: 0.9914\n",
      "Epoch 37/50\n",
      "0s - loss: 0.0584 - acc: 0.9829 - val_loss: 0.0711 - val_acc: 0.9914\n",
      "Epoch 38/50\n",
      "0s - loss: 0.0577 - acc: 0.9829 - val_loss: 0.0688 - val_acc: 0.9914\n",
      "Epoch 39/50\n",
      "0s - loss: 0.0574 - acc: 0.9829 - val_loss: 0.0671 - val_acc: 0.9914\n",
      "Epoch 40/50\n",
      "0s - loss: 0.0569 - acc: 0.9829 - val_loss: 0.0687 - val_acc: 0.9914\n",
      "Epoch 41/50\n",
      "0s - loss: 0.0570 - acc: 0.9829 - val_loss: 0.0667 - val_acc: 0.9914\n",
      "Epoch 42/50\n",
      "0s - loss: 0.0565 - acc: 0.9829 - val_loss: 0.0673 - val_acc: 0.9914\n",
      "Epoch 43/50\n",
      "0s - loss: 0.0560 - acc: 0.9829 - val_loss: 0.0706 - val_acc: 0.9914\n",
      "Epoch 44/50\n",
      "0s - loss: 0.0561 - acc: 0.9829 - val_loss: 0.0713 - val_acc: 0.9914\n",
      "Epoch 45/50\n",
      "0s - loss: 0.0559 - acc: 0.9829 - val_loss: 0.0700 - val_acc: 0.9914\n",
      "Epoch 46/50\n",
      "0s - loss: 0.0555 - acc: 0.9829 - val_loss: 0.0691 - val_acc: 0.9914\n",
      "Epoch 47/50\n",
      "0s - loss: 0.0555 - acc: 0.9829 - val_loss: 0.0694 - val_acc: 0.9914\n",
      "Epoch 48/50\n",
      "0s - loss: 0.0554 - acc: 0.9829 - val_loss: 0.0673 - val_acc: 0.9914\n",
      "Epoch 49/50\n",
      "0s - loss: 0.0549 - acc: 0.9829 - val_loss: 0.0682 - val_acc: 0.9914\n",
      "Epoch 50/50\n",
      "0s - loss: 0.0546 - acc: 0.9829 - val_loss: 0.0689 - val_acc: 0.9914\n"
     ]
    },
    {
     "data": {
      "text/plain": [
       "<keras.callbacks.History at 0x7f970160d110>"
      ]
     },
     "execution_count": 13,
     "metadata": {},
     "output_type": "execute_result"
    }
   ],
   "source": [
    "# Fit the model\n",
    "model.fit(X, Y, validation_split=0.33, epochs=50, batch_size=28,callbacks=callbacks_list, verbose=2)"
   ]
  },
  {
   "cell_type": "code",
   "execution_count": null,
   "metadata": {
    "collapsed": true
   },
   "outputs": [],
   "source": []
  }
 ],
 "metadata": {
  "kernelspec": {
   "display_name": "Python 2",
   "language": "python",
   "name": "python2"
  },
  "language_info": {
   "codemirror_mode": {
    "name": "ipython",
    "version": 2
   },
   "file_extension": ".py",
   "mimetype": "text/x-python",
   "name": "python",
   "nbconvert_exporter": "python",
   "pygments_lexer": "ipython2",
   "version": "2.7.12"
  }
 },
 "nbformat": 4,
 "nbformat_minor": 0
}
