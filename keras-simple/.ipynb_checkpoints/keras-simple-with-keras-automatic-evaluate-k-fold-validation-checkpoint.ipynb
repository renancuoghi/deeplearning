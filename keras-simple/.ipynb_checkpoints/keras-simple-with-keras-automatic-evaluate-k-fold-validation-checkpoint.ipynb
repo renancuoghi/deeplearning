{
 "cells": [
  {
   "cell_type": "code",
   "execution_count": 7,
   "metadata": {
    "collapsed": false
   },
   "outputs": [],
   "source": [
    "from keras.models import Sequential\n",
    "#Fully connected layers are defined using the Dense class\n",
    "from keras.layers import Dense\n",
    "from sklearn.model_selection import train_test_split\n",
    "import numpy\n",
    "# fix random seed for reproducibility\n",
    "seed = 7\n",
    "numpy.random.seed(seed)"
   ]
  },
  {
   "cell_type": "code",
   "execution_count": 8,
   "metadata": {
    "collapsed": true
   },
   "outputs": [],
   "source": [
    "# loading data\n",
    "# load pima indians dataset\n",
    "dataset = numpy.loadtxt(\"../datasets/pima-indians-diabetes.csv\", delimiter=\",\")"
   ]
  },
  {
   "cell_type": "code",
   "execution_count": 9,
   "metadata": {
    "collapsed": false
   },
   "outputs": [
    {
     "name": "stdout",
     "output_type": "stream",
     "text": [
      "(768, 8)\n",
      "[ 0.  1.]\n"
     ]
    }
   ],
   "source": [
    "X = dataset[:,0:8]\n",
    "Y = dataset[:,8]\n",
    "print X.shape\n",
    "print numpy.unique(Y)"
   ]
  },
  {
   "cell_type": "code",
   "execution_count": 10,
   "metadata": {
    "collapsed": false
   },
   "outputs": [],
   "source": [
    "# split into 67% for train and 33% for test\n",
    "X_train, X_test, y_train, y_test = train_test_split(X, Y, test_size=0.33, random_state=seed)"
   ]
  },
  {
   "cell_type": "markdown",
   "metadata": {},
   "source": [
    "## Define the model"
   ]
  },
  {
   "cell_type": "code",
   "execution_count": 11,
   "metadata": {
    "collapsed": true
   },
   "outputs": [],
   "source": [
    "# create model\n",
    "model = Sequential()\n",
    "#First, input layer (with 8 [X.shape columns]) and a second hidden layer12 hidden full connected (Dense) and relu activation funcion\n",
    "model.add(Dense(12, input_dim=8, activation='relu'))\n",
    "# other hidden layer with 8 nodes and activation relu\n",
    "model.add(Dense(8, activation= 'relu' ))\n",
    "# output layer with one neuron (sigmoid because it's a binary classification [numpy.unique(Y)])\n",
    "model.add(Dense(1, activation='sigmoid'))"
   ]
  },
  {
   "cell_type": "code",
   "execution_count": 12,
   "metadata": {
    "collapsed": false
   },
   "outputs": [
    {
     "data": {
      "image/png": "[encoded data removed]",
      "text/plain": [
       "<IPython.core.display.Image object>"
      ]
     },
     "execution_count": 12,
     "metadata": {},
     "output_type": "execute_result"
    }
   ],
   "source": [
    "from IPython.display import Image\n",
    "Image(filename='nn.png') "
   ]
  },
  {
   "cell_type": "code",
   "execution_count": 13,
   "metadata": {
    "collapsed": true
   },
   "outputs": [],
   "source": [
    "# Compile model\n",
    "#loss function to use to evaluate a set of weights (it's a binary problem so binary_crossentropy)\n",
    "# optimazer adma is a default and an efficient gradient descent algorithm\n",
    "#Finally, because it is a classification problem, we will collect and report the classification accuracy as the metric\n",
    "model.compile(loss= 'binary_crossentropy' , optimizer= 'adam' , metrics=['accuracy'])"
   ]
  },
  {
   "cell_type": "code",
   "execution_count": 14,
   "metadata": {
    "collapsed": false
   },
   "outputs": [
    {
     "name": "stdout",
     "output_type": "stream",
     "text": [
      "Train on 514 samples, validate on 254 samples\n",
      "Epoch 1/150\n",
      "514/514 [==============================] - 0s - loss: 5.5190 - acc: 0.6576 - val_loss: 5.8381 - val_acc: 0.6378\n",
      "Epoch 2/150\n",
      "514/514 [==============================] - 0s - loss: 5.5190 - acc: 0.6576 - val_loss: 5.8381 - val_acc: 0.6378\n",
      "Epoch 3/150\n",
      "514/514 [==============================] - 0s - loss: 5.5190 - acc: 0.6576 - val_loss: 5.8381 - val_acc: 0.6378\n",
      "Epoch 4/150\n",
      "514/514 [==============================] - 0s - loss: 5.5190 - acc: 0.6576 - val_loss: 5.8381 - val_acc: 0.6378\n",
      "Epoch 5/150\n",
      "514/514 [==============================] - 0s - loss: 5.5190 - acc: 0.6576 - val_loss: 5.8381 - val_acc: 0.6378\n",
      "Epoch 6/150\n",
      "514/514 [==============================] - 0s - loss: 5.5190 - acc: 0.6576 - val_loss: 5.8381 - val_acc: 0.6378\n",
      "Epoch 7/150\n",
      "514/514 [==============================] - 0s - loss: 5.5190 - acc: 0.6576 - val_loss: 5.8381 - val_acc: 0.6378\n",
      "Epoch 8/150\n",
      "514/514 [==============================] - 0s - loss: 5.5190 - acc: 0.6576 - val_loss: 5.8381 - val_acc: 0.6378\n",
      "Epoch 9/150\n",
      "514/514 [==============================] - 0s - loss: 5.5190 - acc: 0.6576 - val_loss: 5.8381 - val_acc: 0.6378\n",
      "Epoch 10/150\n",
      "514/514 [==============================] - 0s - loss: 5.5190 - acc: 0.6576 - val_loss: 5.8381 - val_acc: 0.6378\n",
      "Epoch 11/150\n",
      "514/514 [==============================] - 0s - loss: 5.5190 - acc: 0.6576 - val_loss: 5.8381 - val_acc: 0.6378\n",
      "Epoch 12/150\n",
      "514/514 [==============================] - 0s - loss: 5.5190 - acc: 0.6576 - val_loss: 5.8381 - val_acc: 0.6378\n",
      "Epoch 13/150\n",
      "514/514 [==============================] - 0s - loss: 5.5190 - acc: 0.6576 - val_loss: 5.8381 - val_acc: 0.6378\n",
      "Epoch 14/150\n",
      "514/514 [==============================] - 0s - loss: 5.5190 - acc: 0.6576 - val_loss: 5.8381 - val_acc: 0.6378\n",
      "Epoch 15/150\n",
      "514/514 [==============================] - 0s - loss: 5.5190 - acc: 0.6576 - val_loss: 5.8381 - val_acc: 0.6378\n",
      "Epoch 16/150\n",
      "514/514 [==============================] - 0s - loss: 5.5190 - acc: 0.6576 - val_loss: 5.8381 - val_acc: 0.6378\n",
      "Epoch 17/150\n",
      "514/514 [==============================] - 0s - loss: 5.5190 - acc: 0.6576 - val_loss: 5.8381 - val_acc: 0.6378\n",
      "Epoch 18/150\n",
      "514/514 [==============================] - 0s - loss: 5.5190 - acc: 0.6576 - val_loss: 5.8381 - val_acc: 0.6378\n",
      "Epoch 19/150\n",
      "514/514 [==============================] - 0s - loss: 5.5190 - acc: 0.6576 - val_loss: 5.8381 - val_acc: 0.6378\n",
      "Epoch 20/150\n",
      "514/514 [==============================] - 0s - loss: 5.5190 - acc: 0.6576 - val_loss: 5.8381 - val_acc: 0.6378\n",
      "Epoch 21/150\n",
      "514/514 [==============================] - 0s - loss: 5.5190 - acc: 0.6576 - val_loss: 5.8381 - val_acc: 0.6378\n",
      "Epoch 22/150\n",
      "514/514 [==============================] - 0s - loss: 5.5190 - acc: 0.6576 - val_loss: 5.8381 - val_acc: 0.6378\n",
      "Epoch 23/150\n",
      "514/514 [==============================] - 0s - loss: 5.5190 - acc: 0.6576 - val_loss: 5.8381 - val_acc: 0.6378\n",
      "Epoch 24/150\n",
      "514/514 [==============================] - 0s - loss: 5.5190 - acc: 0.6576 - val_loss: 5.8381 - val_acc: 0.6378\n",
      "Epoch 25/150\n",
      "514/514 [==============================] - 0s - loss: 5.5190 - acc: 0.6576 - val_loss: 5.8381 - val_acc: 0.6378\n",
      "Epoch 26/150\n",
      "514/514 [==============================] - 0s - loss: 5.5190 - acc: 0.6576 - val_loss: 5.8381 - val_acc: 0.6378\n",
      "Epoch 27/150\n",
      "514/514 [==============================] - 0s - loss: 5.5190 - acc: 0.6576 - val_loss: 5.8381 - val_acc: 0.6378\n",
      "Epoch 28/150\n",
      "514/514 [==============================] - 0s - loss: 5.5190 - acc: 0.6576 - val_loss: 5.8381 - val_acc: 0.6378\n",
      "Epoch 29/150\n",
      "514/514 [==============================] - 0s - loss: 5.5190 - acc: 0.6576 - val_loss: 5.8381 - val_acc: 0.6378\n",
      "Epoch 30/150\n",
      "514/514 [==============================] - 0s - loss: 5.5190 - acc: 0.6576 - val_loss: 5.8381 - val_acc: 0.6378\n",
      "Epoch 31/150\n",
      "514/514 [==============================] - 0s - loss: 5.5190 - acc: 0.6576 - val_loss: 5.8381 - val_acc: 0.6378\n",
      "Epoch 32/150\n",
      "514/514 [==============================] - 0s - loss: 5.5190 - acc: 0.6576 - val_loss: 5.8381 - val_acc: 0.6378\n",
      "Epoch 33/150\n",
      "514/514 [==============================] - 0s - loss: 5.5190 - acc: 0.6576 - val_loss: 5.8381 - val_acc: 0.6378\n",
      "Epoch 34/150\n",
      "514/514 [==============================] - 0s - loss: 5.5190 - acc: 0.6576 - val_loss: 5.8381 - val_acc: 0.6378\n",
      "Epoch 35/150\n",
      "514/514 [==============================] - 0s - loss: 5.5190 - acc: 0.6576 - val_loss: 5.8381 - val_acc: 0.6378\n",
      "Epoch 36/150\n",
      "514/514 [==============================] - 0s - loss: 5.5190 - acc: 0.6576 - val_loss: 5.8381 - val_acc: 0.6378\n",
      "Epoch 37/150\n",
      "514/514 [==============================] - 0s - loss: 5.5190 - acc: 0.6576 - val_loss: 5.8381 - val_acc: 0.6378\n",
      "Epoch 38/150\n",
      "514/514 [==============================] - 0s - loss: 5.5190 - acc: 0.6576 - val_loss: 5.8381 - val_acc: 0.6378\n",
      "Epoch 39/150\n",
      "514/514 [==============================] - 0s - loss: 5.5190 - acc: 0.6576 - val_loss: 5.8381 - val_acc: 0.6378\n",
      "Epoch 40/150\n",
      "514/514 [==============================] - 0s - loss: 5.5190 - acc: 0.6576 - val_loss: 5.8381 - val_acc: 0.6378\n",
      "Epoch 41/150\n",
      "514/514 [==============================] - 0s - loss: 5.5190 - acc: 0.6576 - val_loss: 5.8381 - val_acc: 0.6378\n",
      "Epoch 42/150\n",
      "514/514 [==============================] - 0s - loss: 5.5190 - acc: 0.6576 - val_loss: 5.8381 - val_acc: 0.6378\n",
      "Epoch 43/150\n",
      "514/514 [==============================] - 0s - loss: 5.5190 - acc: 0.6576 - val_loss: 5.8381 - val_acc: 0.6378\n",
      "Epoch 44/150\n",
      "514/514 [==============================] - 0s - loss: 5.5190 - acc: 0.6576 - val_loss: 5.8381 - val_acc: 0.6378\n",
      "Epoch 45/150\n",
      "514/514 [==============================] - 0s - loss: 5.5190 - acc: 0.6576 - val_loss: 5.8381 - val_acc: 0.6378\n",
      "Epoch 46/150\n",
      "514/514 [==============================] - 0s - loss: 5.5190 - acc: 0.6576 - val_loss: 5.8381 - val_acc: 0.6378\n",
      "Epoch 47/150\n",
      "514/514 [==============================] - 0s - loss: 5.5190 - acc: 0.6576 - val_loss: 5.8381 - val_acc: 0.6378\n",
      "Epoch 48/150\n",
      "514/514 [==============================] - 0s - loss: 5.5190 - acc: 0.6576 - val_loss: 5.8381 - val_acc: 0.6378\n",
      "Epoch 49/150\n",
      "514/514 [==============================] - 0s - loss: 5.5190 - acc: 0.6576 - val_loss: 5.8381 - val_acc: 0.6378\n",
      "Epoch 50/150\n",
      "514/514 [==============================] - 0s - loss: 5.5190 - acc: 0.6576 - val_loss: 5.8381 - val_acc: 0.6378\n",
      "Epoch 51/150\n",
      "514/514 [==============================] - 0s - loss: 5.5190 - acc: 0.6576 - val_loss: 5.8381 - val_acc: 0.6378\n",
      "Epoch 52/150\n",
      "514/514 [==============================] - 0s - loss: 5.5190 - acc: 0.6576 - val_loss: 5.8381 - val_acc: 0.6378\n",
      "Epoch 53/150\n",
      "514/514 [==============================] - 0s - loss: 5.5190 - acc: 0.6576 - val_loss: 5.8381 - val_acc: 0.6378\n",
      "Epoch 54/150\n",
      "514/514 [==============================] - 0s - loss: 5.5190 - acc: 0.6576 - val_loss: 5.8381 - val_acc: 0.6378\n",
      "Epoch 55/150\n",
      "514/514 [==============================] - 0s - loss: 5.5190 - acc: 0.6576 - val_loss: 5.8381 - val_acc: 0.6378\n",
      "Epoch 56/150\n",
      "514/514 [==============================] - 0s - loss: 5.5190 - acc: 0.6576 - val_loss: 5.8381 - val_acc: 0.6378\n",
      "Epoch 57/150\n",
      "514/514 [==============================] - 0s - loss: 5.5190 - acc: 0.6576 - val_loss: 5.8381 - val_acc: 0.6378\n",
      "Epoch 58/150\n",
      "514/514 [==============================] - 0s - loss: 5.5190 - acc: 0.6576 - val_loss: 5.8381 - val_acc: 0.6378\n",
      "Epoch 59/150\n",
      "514/514 [==============================] - 0s - loss: 5.5190 - acc: 0.6576 - val_loss: 5.8381 - val_acc: 0.6378\n",
      "Epoch 60/150\n",
      "514/514 [==============================] - 0s - loss: 5.5190 - acc: 0.6576 - val_loss: 5.8381 - val_acc: 0.6378\n",
      "Epoch 61/150\n",
      "514/514 [==============================] - 0s - loss: 5.5190 - acc: 0.6576 - val_loss: 5.8381 - val_acc: 0.6378\n",
      "Epoch 62/150\n",
      "514/514 [==============================] - 0s - loss: 5.5190 - acc: 0.6576 - val_loss: 5.8381 - val_acc: 0.6378\n",
      "Epoch 63/150\n",
      "514/514 [==============================] - 0s - loss: 5.5190 - acc: 0.6576 - val_loss: 5.8381 - val_acc: 0.6378\n",
      "Epoch 64/150\n",
      "514/514 [==============================] - 0s - loss: 5.5190 - acc: 0.6576 - val_loss: 5.8381 - val_acc: 0.6378\n",
      "Epoch 65/150\n",
      "514/514 [==============================] - 0s - loss: 5.5190 - acc: 0.6576 - val_loss: 5.8381 - val_acc: 0.6378\n",
      "Epoch 66/150\n",
      "514/514 [==============================] - 0s - loss: 5.5190 - acc: 0.6576 - val_loss: 5.8381 - val_acc: 0.6378\n",
      "Epoch 67/150\n",
      "514/514 [==============================] - 0s - loss: 5.5190 - acc: 0.6576 - val_loss: 5.8381 - val_acc: 0.6378\n",
      "Epoch 68/150\n",
      "514/514 [==============================] - 0s - loss: 5.5190 - acc: 0.6576 - val_loss: 5.8381 - val_acc: 0.6378\n",
      "Epoch 69/150\n",
      "514/514 [==============================] - 0s - loss: 5.5190 - acc: 0.6576 - val_loss: 5.8381 - val_acc: 0.6378\n",
      "Epoch 70/150\n",
      "514/514 [==============================] - 0s - loss: 5.5190 - acc: 0.6576 - val_loss: 5.8381 - val_acc: 0.6378\n",
      "Epoch 71/150\n",
      "514/514 [==============================] - 0s - loss: 5.5190 - acc: 0.6576 - val_loss: 5.8381 - val_acc: 0.6378\n",
      "Epoch 72/150\n",
      "514/514 [==============================] - 0s - loss: 5.5190 - acc: 0.6576 - val_loss: 5.8381 - val_acc: 0.6378\n",
      "Epoch 73/150\n",
      "514/514 [==============================] - 0s - loss: 5.5190 - acc: 0.6576 - val_loss: 5.8381 - val_acc: 0.6378\n",
      "Epoch 74/150\n",
      "514/514 [==============================] - 0s - loss: 5.5190 - acc: 0.6576 - val_loss: 5.8381 - val_acc: 0.6378\n",
      "Epoch 75/150\n",
      "514/514 [==============================] - 0s - loss: 5.5190 - acc: 0.6576 - val_loss: 5.8381 - val_acc: 0.6378\n",
      "Epoch 76/150\n",
      "514/514 [==============================] - 0s - loss: 5.5190 - acc: 0.6576 - val_loss: 5.8381 - val_acc: 0.6378\n",
      "Epoch 77/150\n",
      "514/514 [==============================] - 0s - loss: 5.5190 - acc: 0.6576 - val_loss: 5.8381 - val_acc: 0.6378\n",
      "Epoch 78/150\n",
      "514/514 [==============================] - 0s - loss: 5.5190 - acc: 0.6576 - val_loss: 5.8381 - val_acc: 0.6378\n",
      "Epoch 79/150\n",
      "514/514 [==============================] - 0s - loss: 5.5190 - acc: 0.6576 - val_loss: 5.8381 - val_acc: 0.6378\n",
      "Epoch 80/150\n",
      "514/514 [==============================] - 0s - loss: 5.5190 - acc: 0.6576 - val_loss: 5.8381 - val_acc: 0.6378\n",
      "Epoch 81/150\n",
      "514/514 [==============================] - 0s - loss: 5.5190 - acc: 0.6576 - val_loss: 5.8381 - val_acc: 0.6378\n",
      "Epoch 82/150\n",
      "514/514 [==============================] - 0s - loss: 5.5190 - acc: 0.6576 - val_loss: 5.8381 - val_acc: 0.6378\n",
      "Epoch 83/150\n",
      "514/514 [==============================] - 0s - loss: 5.5190 - acc: 0.6576 - val_loss: 5.8381 - val_acc: 0.6378\n",
      "Epoch 84/150\n",
      "514/514 [==============================] - 0s - loss: 5.5190 - acc: 0.6576 - val_loss: 5.8381 - val_acc: 0.6378\n",
      "Epoch 85/150\n",
      "514/514 [==============================] - 0s - loss: 5.5190 - acc: 0.6576 - val_loss: 5.8381 - val_acc: 0.6378\n",
      "Epoch 86/150\n",
      "514/514 [==============================] - 0s - loss: 5.5190 - acc: 0.6576 - val_loss: 5.8381 - val_acc: 0.6378\n",
      "Epoch 87/150\n",
      "514/514 [==============================] - 0s - loss: 5.5190 - acc: 0.6576 - val_loss: 5.8381 - val_acc: 0.6378\n",
      "Epoch 88/150\n",
      "514/514 [==============================] - 0s - loss: 5.5190 - acc: 0.6576 - val_loss: 5.8381 - val_acc: 0.6378\n",
      "Epoch 89/150\n",
      "514/514 [==============================] - 0s - loss: 5.5190 - acc: 0.6576 - val_loss: 5.8381 - val_acc: 0.6378\n",
      "Epoch 90/150\n",
      "514/514 [==============================] - 0s - loss: 5.5190 - acc: 0.6576 - val_loss: 5.8381 - val_acc: 0.6378\n",
      "Epoch 91/150\n",
      "514/514 [==============================] - 0s - loss: 5.5190 - acc: 0.6576 - val_loss: 5.8381 - val_acc: 0.6378\n",
      "Epoch 92/150\n",
      "514/514 [==============================] - 0s - loss: 5.5190 - acc: 0.6576 - val_loss: 5.8381 - val_acc: 0.6378\n",
      "Epoch 93/150\n",
      "514/514 [==============================] - 0s - loss: 5.5190 - acc: 0.6576 - val_loss: 5.8381 - val_acc: 0.6378\n",
      "Epoch 94/150\n",
      "514/514 [==============================] - 0s - loss: 5.5190 - acc: 0.6576 - val_loss: 5.8381 - val_acc: 0.6378\n",
      "Epoch 95/150\n",
      "514/514 [==============================] - 0s - loss: 5.5190 - acc: 0.6576 - val_loss: 5.8381 - val_acc: 0.6378\n",
      "Epoch 96/150\n",
      "514/514 [==============================] - 0s - loss: 5.5190 - acc: 0.6576 - val_loss: 5.8381 - val_acc: 0.6378\n",
      "Epoch 97/150\n",
      "514/514 [==============================] - 0s - loss: 5.5190 - acc: 0.6576 - val_loss: 5.8381 - val_acc: 0.6378\n",
      "Epoch 98/150\n",
      "514/514 [==============================] - 0s - loss: 5.5190 - acc: 0.6576 - val_loss: 5.8381 - val_acc: 0.6378\n",
      "Epoch 99/150\n",
      "514/514 [==============================] - 0s - loss: 5.5190 - acc: 0.6576 - val_loss: 5.8381 - val_acc: 0.6378\n",
      "Epoch 100/150\n",
      "514/514 [==============================] - 0s - loss: 5.5190 - acc: 0.6576 - val_loss: 5.8381 - val_acc: 0.6378\n",
      "Epoch 101/150\n",
      "514/514 [==============================] - 0s - loss: 5.5190 - acc: 0.6576 - val_loss: 5.8381 - val_acc: 0.6378\n",
      "Epoch 102/150\n",
      "514/514 [==============================] - 0s - loss: 5.5190 - acc: 0.6576 - val_loss: 5.8381 - val_acc: 0.6378\n",
      "Epoch 103/150\n",
      "514/514 [==============================] - 0s - loss: 5.5190 - acc: 0.6576 - val_loss: 5.8381 - val_acc: 0.6378\n",
      "Epoch 104/150\n",
      "514/514 [==============================] - 0s - loss: 5.5190 - acc: 0.6576 - val_loss: 5.8381 - val_acc: 0.6378\n",
      "Epoch 105/150\n",
      "514/514 [==============================] - 0s - loss: 5.5190 - acc: 0.6576 - val_loss: 5.8381 - val_acc: 0.6378\n",
      "Epoch 106/150\n",
      "514/514 [==============================] - 0s - loss: 5.5190 - acc: 0.6576 - val_loss: 5.8381 - val_acc: 0.6378\n",
      "Epoch 107/150\n",
      "514/514 [==============================] - 0s - loss: 5.5190 - acc: 0.6576 - val_loss: 5.8381 - val_acc: 0.6378\n",
      "Epoch 108/150\n",
      "514/514 [==============================] - 0s - loss: 5.5190 - acc: 0.6576 - val_loss: 5.8381 - val_acc: 0.6378\n",
      "Epoch 109/150\n",
      "514/514 [==============================] - 0s - loss: 5.5190 - acc: 0.6576 - val_loss: 5.8381 - val_acc: 0.6378\n",
      "Epoch 110/150\n",
      "514/514 [==============================] - 0s - loss: 5.5190 - acc: 0.6576 - val_loss: 5.8381 - val_acc: 0.6378\n",
      "Epoch 111/150\n",
      "514/514 [==============================] - 0s - loss: 5.5190 - acc: 0.6576 - val_loss: 5.8381 - val_acc: 0.6378\n",
      "Epoch 112/150\n",
      "514/514 [==============================] - 0s - loss: 5.5190 - acc: 0.6576 - val_loss: 5.8381 - val_acc: 0.6378\n",
      "Epoch 113/150\n",
      "514/514 [==============================] - 0s - loss: 5.5190 - acc: 0.6576 - val_loss: 5.8381 - val_acc: 0.6378\n",
      "Epoch 114/150\n",
      "514/514 [==============================] - 0s - loss: 5.5190 - acc: 0.6576 - val_loss: 5.8381 - val_acc: 0.6378\n",
      "Epoch 115/150\n",
      "514/514 [==============================] - 0s - loss: 5.5190 - acc: 0.6576 - val_loss: 5.8381 - val_acc: 0.6378\n",
      "Epoch 116/150\n",
      "514/514 [==============================] - 0s - loss: 5.5190 - acc: 0.6576 - val_loss: 5.8381 - val_acc: 0.6378\n",
      "Epoch 117/150\n",
      "514/514 [==============================] - 0s - loss: 5.5190 - acc: 0.6576 - val_loss: 5.8381 - val_acc: 0.6378\n",
      "Epoch 118/150\n",
      "514/514 [==============================] - 0s - loss: 5.5190 - acc: 0.6576 - val_loss: 5.8381 - val_acc: 0.6378\n",
      "Epoch 119/150\n",
      "514/514 [==============================] - 0s - loss: 5.5190 - acc: 0.6576 - val_loss: 5.8381 - val_acc: 0.6378\n",
      "Epoch 120/150\n",
      "514/514 [==============================] - 0s - loss: 5.5190 - acc: 0.6576 - val_loss: 5.8381 - val_acc: 0.6378\n",
      "Epoch 121/150\n",
      "514/514 [==============================] - 0s - loss: 5.5190 - acc: 0.6576 - val_loss: 5.8381 - val_acc: 0.6378\n",
      "Epoch 122/150\n",
      "514/514 [==============================] - 0s - loss: 5.5190 - acc: 0.6576 - val_loss: 5.8381 - val_acc: 0.6378\n",
      "Epoch 123/150\n",
      "514/514 [==============================] - 0s - loss: 5.5190 - acc: 0.6576 - val_loss: 5.8381 - val_acc: 0.6378\n",
      "Epoch 124/150\n",
      "514/514 [==============================] - 0s - loss: 5.5190 - acc: 0.6576 - val_loss: 5.8381 - val_acc: 0.6378\n",
      "Epoch 125/150\n",
      "514/514 [==============================] - 0s - loss: 5.5190 - acc: 0.6576 - val_loss: 5.8381 - val_acc: 0.6378\n",
      "Epoch 126/150\n",
      "514/514 [==============================] - 0s - loss: 5.5190 - acc: 0.6576 - val_loss: 5.8381 - val_acc: 0.6378\n",
      "Epoch 127/150\n",
      "514/514 [==============================] - 0s - loss: 5.5190 - acc: 0.6576 - val_loss: 5.8381 - val_acc: 0.6378\n",
      "Epoch 128/150\n",
      "514/514 [==============================] - 0s - loss: 5.5190 - acc: 0.6576 - val_loss: 5.8381 - val_acc: 0.6378\n",
      "Epoch 129/150\n",
      "514/514 [==============================] - 0s - loss: 5.5190 - acc: 0.6576 - val_loss: 5.8381 - val_acc: 0.6378\n",
      "Epoch 130/150\n",
      "514/514 [==============================] - 0s - loss: 5.5190 - acc: 0.6576 - val_loss: 5.8381 - val_acc: 0.6378\n",
      "Epoch 131/150\n",
      "514/514 [==============================] - 0s - loss: 5.5190 - acc: 0.6576 - val_loss: 5.8381 - val_acc: 0.6378\n",
      "Epoch 132/150\n",
      "514/514 [==============================] - 0s - loss: 5.5190 - acc: 0.6576 - val_loss: 5.8381 - val_acc: 0.6378\n",
      "Epoch 133/150\n",
      "514/514 [==============================] - 0s - loss: 5.5190 - acc: 0.6576 - val_loss: 5.8381 - val_acc: 0.6378\n",
      "Epoch 134/150\n",
      "514/514 [==============================] - 0s - loss: 5.5190 - acc: 0.6576 - val_loss: 5.8381 - val_acc: 0.6378\n",
      "Epoch 135/150\n",
      "514/514 [==============================] - 0s - loss: 5.5190 - acc: 0.6576 - val_loss: 5.8381 - val_acc: 0.6378\n",
      "Epoch 136/150\n",
      "514/514 [==============================] - 0s - loss: 5.5190 - acc: 0.6576 - val_loss: 5.8381 - val_acc: 0.6378\n",
      "Epoch 137/150\n",
      "514/514 [==============================] - 0s - loss: 5.5190 - acc: 0.6576 - val_loss: 5.8381 - val_acc: 0.6378\n",
      "Epoch 138/150\n",
      "514/514 [==============================] - 0s - loss: 5.5190 - acc: 0.6576 - val_loss: 5.8381 - val_acc: 0.6378\n",
      "Epoch 139/150\n",
      "514/514 [==============================] - 0s - loss: 5.5190 - acc: 0.6576 - val_loss: 5.8381 - val_acc: 0.6378\n",
      "Epoch 140/150\n",
      "514/514 [==============================] - 0s - loss: 5.5190 - acc: 0.6576 - val_loss: 5.8381 - val_acc: 0.6378\n",
      "Epoch 141/150\n",
      "514/514 [==============================] - 0s - loss: 5.5190 - acc: 0.6576 - val_loss: 5.8381 - val_acc: 0.6378\n",
      "Epoch 142/150\n",
      "514/514 [==============================] - 0s - loss: 5.5190 - acc: 0.6576 - val_loss: 5.8381 - val_acc: 0.6378\n",
      "Epoch 143/150\n",
      "514/514 [==============================] - 0s - loss: 5.5190 - acc: 0.6576 - val_loss: 5.8381 - val_acc: 0.6378\n",
      "Epoch 144/150\n",
      "514/514 [==============================] - 0s - loss: 5.5190 - acc: 0.6576 - val_loss: 5.8381 - val_acc: 0.6378\n",
      "Epoch 145/150\n",
      "514/514 [==============================] - 0s - loss: 5.5190 - acc: 0.6576 - val_loss: 5.8381 - val_acc: 0.6378\n",
      "Epoch 146/150\n",
      "514/514 [==============================] - 0s - loss: 5.5190 - acc: 0.6576 - val_loss: 5.8381 - val_acc: 0.6378\n",
      "Epoch 147/150\n",
      "514/514 [==============================] - 0s - loss: 5.5190 - acc: 0.6576 - val_loss: 5.8381 - val_acc: 0.6378\n",
      "Epoch 148/150\n",
      "514/514 [==============================] - 0s - loss: 5.5190 - acc: 0.6576 - val_loss: 5.8381 - val_acc: 0.6378\n",
      "Epoch 149/150\n",
      "514/514 [==============================] - 0s - loss: 5.5190 - acc: 0.6576 - val_loss: 5.8381 - val_acc: 0.6378\n",
      "Epoch 150/150\n",
      "514/514 [==============================] - 0s - loss: 5.5190 - acc: 0.6576 - val_loss: 5.8381 - val_acc: 0.6378\n"
     ]
    },
    {
     "data": {
      "text/plain": [
       "<keras.callbacks.History at 0x7f551af1a990>"
      ]
     },
     "execution_count": 14,
     "metadata": {},
     "output_type": "execute_result"
    }
   ],
   "source": [
    "# Fit the model\n",
    "#using validation with X_test and y_test\n",
    "#epochs=a fixed number of iterations through the dataset\n",
    "#batch_size = number of instances that are evaluated before a weight update in the network\n",
    "model.fit(X_train, y_train, validation_data=(X_test,y_test), epochs=150, batch_size=10)"
   ]
  },
  {
   "cell_type": "markdown",
   "metadata": {},
   "source": [
    "## Evaluate the model"
   ]
  },
  {
   "cell_type": "code",
   "execution_count": 16,
   "metadata": {
    "collapsed": false
   },
   "outputs": [
    {
     "name": "stdout",
     "output_type": "stream",
     "text": [
      " 32/768 [>.............................] - ETA: 0s\n",
      "acc: 65.10%\n"
     ]
    }
   ],
   "source": [
    "#simple evaluate without separated data into train and test data\n",
    "scores = model.evaluate(X, Y)\n",
    "print(\"\\n%s: %.2f%%\" % (model.metrics_names[1], scores[1]*100))"
   ]
  },
  {
   "cell_type": "code",
   "execution_count": null,
   "metadata": {
    "collapsed": true
   },
   "outputs": [],
   "source": []
  },
  {
   "cell_type": "code",
   "execution_count": null,
   "metadata": {
    "collapsed": true
   },
   "outputs": [],
   "source": []
  }
 ],
 "metadata": {
  "kernelspec": {
   "display_name": "Python 2",
   "language": "python",
   "name": "python2"
  },
  "language_info": {
   "codemirror_mode": {
    "name": "ipython",
    "version": 2
   },
   "file_extension": ".py",
   "mimetype": "text/x-python",
   "name": "python",
   "nbconvert_exporter": "python",
   "pygments_lexer": "ipython2",
   "version": "2.7.12"
  }
 },
 "nbformat": 4,
 "nbformat_minor": 0
}
