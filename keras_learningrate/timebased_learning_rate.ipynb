{
 "cells": [
  {
   "cell_type": "code",
   "execution_count": 1,
   "metadata": {
    "collapsed": true
   },
   "outputs": [],
   "source": [
    "from pandas import read_csv\n",
    "import numpy\n",
    "from keras.models import Sequential\n",
    "from keras.layers import Dense\n",
    "from keras.optimizers import SGD # stochastic gradient descent\n",
    "from sklearn.preprocessing import LabelEncoder"
   ]
  },
  {
   "cell_type": "code",
   "execution_count": 2,
   "metadata": {
    "collapsed": true
   },
   "outputs": [],
   "source": [
    "#fix random seed\n",
    "seed = 7\n",
    "numpy.random.seed(seed)"
   ]
  },
  {
   "cell_type": "code",
   "execution_count": 3,
   "metadata": {
    "collapsed": true
   },
   "outputs": [],
   "source": [
    "dataframe = read_csv(\"../datasets/ionosphere.csv\")"
   ]
  },
  {
   "cell_type": "code",
   "execution_count": 4,
   "metadata": {
    "collapsed": false
   },
   "outputs": [
    {
     "data": {
      "text/html": [
       "<div>\n",
       "<table border=\"1\" class=\"dataframe\">\n",
       "  <thead>\n",
       "    <tr style=\"text-align: right;\">\n",
       "      <th></th>\n",
       "      <th>1</th>\n",
       "      <th>0</th>\n",
       "      <th>0.99539</th>\n",
       "      <th>-0.05889</th>\n",
       "      <th>0.85243</th>\n",
       "      <th>0.02306</th>\n",
       "      <th>0.83398</th>\n",
       "      <th>-0.37708</th>\n",
       "      <th>1.1</th>\n",
       "      <th>0.03760</th>\n",
       "      <th>...</th>\n",
       "      <th>-0.51171</th>\n",
       "      <th>0.41078</th>\n",
       "      <th>-0.46168</th>\n",
       "      <th>0.21266</th>\n",
       "      <th>-0.34090</th>\n",
       "      <th>0.42267</th>\n",
       "      <th>-0.54487</th>\n",
       "      <th>0.18641</th>\n",
       "      <th>-0.45300</th>\n",
       "      <th>g</th>\n",
       "    </tr>\n",
       "  </thead>\n",
       "  <tbody>\n",
       "    <tr>\n",
       "      <th>0</th>\n",
       "      <td>1</td>\n",
       "      <td>0</td>\n",
       "      <td>1.00000</td>\n",
       "      <td>-0.18829</td>\n",
       "      <td>0.93035</td>\n",
       "      <td>-0.36156</td>\n",
       "      <td>-0.10868</td>\n",
       "      <td>-0.93597</td>\n",
       "      <td>1.00000</td>\n",
       "      <td>-0.04549</td>\n",
       "      <td>...</td>\n",
       "      <td>-0.26569</td>\n",
       "      <td>-0.20468</td>\n",
       "      <td>-0.18401</td>\n",
       "      <td>-0.19040</td>\n",
       "      <td>-0.11593</td>\n",
       "      <td>-0.16626</td>\n",
       "      <td>-0.06288</td>\n",
       "      <td>-0.13738</td>\n",
       "      <td>-0.02447</td>\n",
       "      <td>b</td>\n",
       "    </tr>\n",
       "    <tr>\n",
       "      <th>1</th>\n",
       "      <td>1</td>\n",
       "      <td>0</td>\n",
       "      <td>1.00000</td>\n",
       "      <td>-0.03365</td>\n",
       "      <td>1.00000</td>\n",
       "      <td>0.00485</td>\n",
       "      <td>1.00000</td>\n",
       "      <td>-0.12062</td>\n",
       "      <td>0.88965</td>\n",
       "      <td>0.01198</td>\n",
       "      <td>...</td>\n",
       "      <td>-0.40220</td>\n",
       "      <td>0.58984</td>\n",
       "      <td>-0.22145</td>\n",
       "      <td>0.43100</td>\n",
       "      <td>-0.17365</td>\n",
       "      <td>0.60436</td>\n",
       "      <td>-0.24180</td>\n",
       "      <td>0.56045</td>\n",
       "      <td>-0.38238</td>\n",
       "      <td>g</td>\n",
       "    </tr>\n",
       "    <tr>\n",
       "      <th>2</th>\n",
       "      <td>1</td>\n",
       "      <td>0</td>\n",
       "      <td>1.00000</td>\n",
       "      <td>-0.45161</td>\n",
       "      <td>1.00000</td>\n",
       "      <td>1.00000</td>\n",
       "      <td>0.71216</td>\n",
       "      <td>-1.00000</td>\n",
       "      <td>0.00000</td>\n",
       "      <td>0.00000</td>\n",
       "      <td>...</td>\n",
       "      <td>0.90695</td>\n",
       "      <td>0.51613</td>\n",
       "      <td>1.00000</td>\n",
       "      <td>1.00000</td>\n",
       "      <td>-0.20099</td>\n",
       "      <td>0.25682</td>\n",
       "      <td>1.00000</td>\n",
       "      <td>-0.32382</td>\n",
       "      <td>1.00000</td>\n",
       "      <td>b</td>\n",
       "    </tr>\n",
       "    <tr>\n",
       "      <th>3</th>\n",
       "      <td>1</td>\n",
       "      <td>0</td>\n",
       "      <td>1.00000</td>\n",
       "      <td>-0.02401</td>\n",
       "      <td>0.94140</td>\n",
       "      <td>0.06531</td>\n",
       "      <td>0.92106</td>\n",
       "      <td>-0.23255</td>\n",
       "      <td>0.77152</td>\n",
       "      <td>-0.16399</td>\n",
       "      <td>...</td>\n",
       "      <td>-0.65158</td>\n",
       "      <td>0.13290</td>\n",
       "      <td>-0.53206</td>\n",
       "      <td>0.02431</td>\n",
       "      <td>-0.62197</td>\n",
       "      <td>-0.05707</td>\n",
       "      <td>-0.59573</td>\n",
       "      <td>-0.04608</td>\n",
       "      <td>-0.65697</td>\n",
       "      <td>g</td>\n",
       "    </tr>\n",
       "    <tr>\n",
       "      <th>4</th>\n",
       "      <td>1</td>\n",
       "      <td>0</td>\n",
       "      <td>0.02337</td>\n",
       "      <td>-0.00592</td>\n",
       "      <td>-0.09924</td>\n",
       "      <td>-0.11949</td>\n",
       "      <td>-0.00763</td>\n",
       "      <td>-0.11824</td>\n",
       "      <td>0.14706</td>\n",
       "      <td>0.06637</td>\n",
       "      <td>...</td>\n",
       "      <td>-0.01535</td>\n",
       "      <td>-0.03240</td>\n",
       "      <td>0.09223</td>\n",
       "      <td>-0.07859</td>\n",
       "      <td>0.00732</td>\n",
       "      <td>0.00000</td>\n",
       "      <td>0.00000</td>\n",
       "      <td>-0.00039</td>\n",
       "      <td>0.12011</td>\n",
       "      <td>b</td>\n",
       "    </tr>\n",
       "  </tbody>\n",
       "</table>\n",
       "<p>5 rows × 35 columns</p>\n",
       "</div>"
      ],
      "text/plain": [
       "   1  0  0.99539  -0.05889  0.85243  0.02306  0.83398  -0.37708      1.1  \\\n",
       "0  1  0  1.00000  -0.18829  0.93035 -0.36156 -0.10868  -0.93597  1.00000   \n",
       "1  1  0  1.00000  -0.03365  1.00000  0.00485  1.00000  -0.12062  0.88965   \n",
       "2  1  0  1.00000  -0.45161  1.00000  1.00000  0.71216  -1.00000  0.00000   \n",
       "3  1  0  1.00000  -0.02401  0.94140  0.06531  0.92106  -0.23255  0.77152   \n",
       "4  1  0  0.02337  -0.00592 -0.09924 -0.11949 -0.00763  -0.11824  0.14706   \n",
       "\n",
       "   0.03760 ...  -0.51171  0.41078  -0.46168  0.21266  -0.34090  0.42267  \\\n",
       "0 -0.04549 ...  -0.26569 -0.20468  -0.18401 -0.19040  -0.11593 -0.16626   \n",
       "1  0.01198 ...  -0.40220  0.58984  -0.22145  0.43100  -0.17365  0.60436   \n",
       "2  0.00000 ...   0.90695  0.51613   1.00000  1.00000  -0.20099  0.25682   \n",
       "3 -0.16399 ...  -0.65158  0.13290  -0.53206  0.02431  -0.62197 -0.05707   \n",
       "4  0.06637 ...  -0.01535 -0.03240   0.09223 -0.07859   0.00732  0.00000   \n",
       "\n",
       "   -0.54487  0.18641  -0.45300  g  \n",
       "0  -0.06288 -0.13738  -0.02447  b  \n",
       "1  -0.24180  0.56045  -0.38238  g  \n",
       "2   1.00000 -0.32382   1.00000  b  \n",
       "3  -0.59573 -0.04608  -0.65697  g  \n",
       "4   0.00000 -0.00039   0.12011  b  \n",
       "\n",
       "[5 rows x 35 columns]"
      ]
     },
     "execution_count": 4,
     "metadata": {},
     "output_type": "execute_result"
    }
   ],
   "source": [
    "dataframe.head()"
   ]
  },
  {
   "cell_type": "code",
   "execution_count": 7,
   "metadata": {
    "collapsed": false
   },
   "outputs": [],
   "source": [
    "dataset = dataframe.values"
   ]
  },
  {
   "cell_type": "code",
   "execution_count": 8,
   "metadata": {
    "collapsed": true
   },
   "outputs": [],
   "source": [
    "# split into input (X) and output (Y) variables\n",
    "X = dataset[:,0:34].astype(float)\n",
    "Y = dataset[:,34]"
   ]
  },
  {
   "cell_type": "code",
   "execution_count": 9,
   "metadata": {
    "collapsed": false
   },
   "outputs": [
    {
     "data": {
      "text/plain": [
       "array([0, 1])"
      ]
     },
     "execution_count": 9,
     "metadata": {},
     "output_type": "execute_result"
    }
   ],
   "source": [
    "# encode class values as integers\n",
    "encoder = LabelEncoder()\n",
    "encoder.fit(Y)\n",
    "Y = encoder.transform(Y)\n",
    "numpy.unique(Y)"
   ]
  },
  {
   "cell_type": "code",
   "execution_count": 11,
   "metadata": {
    "collapsed": false
   },
   "outputs": [],
   "source": [
    "# create model\n",
    "model = Sequential()\n",
    "model.add(Dense(34, input_dim=34, kernel_initializer= 'normal' , activation= 'relu' ))\n",
    "model.add(Dense(1, kernel_initializer= 'normal' , activation= 'sigmoid' ))"
   ]
  },
  {
   "cell_type": "code",
   "execution_count": 12,
   "metadata": {
    "collapsed": true
   },
   "outputs": [],
   "source": [
    "# Compile model\n",
    "epochs = 50\n",
    "learning_rate = 0.1\n",
    "decay_rate = learning_rate / epochs\n",
    "momentum = 0.8\n",
    "sgd = SGD(lr=learning_rate, momentum=momentum, decay=decay_rate, nesterov=False)\n",
    "model.compile(loss= 'binary_crossentropy' , optimizer=sgd, metrics=[ 'accuracy' ])"
   ]
  },
  {
   "cell_type": "code",
   "execution_count": 13,
   "metadata": {
    "collapsed": false
   },
   "outputs": [
    {
     "name": "stdout",
     "output_type": "stream",
     "text": [
      "Train on 234 samples, validate on 116 samples\n",
      "Epoch 1/50\n",
      "0s - loss: 0.6825 - acc: 0.6239 - val_loss: 0.6394 - val_acc: 0.8793\n",
      "Epoch 2/50\n",
      "0s - loss: 0.6387 - acc: 0.7479 - val_loss: 0.5179 - val_acc: 0.8707\n",
      "Epoch 3/50\n",
      "0s - loss: 0.5637 - acc: 0.7949 - val_loss: 0.4988 - val_acc: 0.8017\n",
      "Epoch 4/50\n",
      "0s - loss: 0.4681 - acc: 0.8248 - val_loss: 0.3919 - val_acc: 0.9397\n",
      "Epoch 5/50\n",
      "0s - loss: 0.3914 - acc: 0.8590 - val_loss: 0.2871 - val_acc: 0.9569\n",
      "Epoch 6/50\n",
      "0s - loss: 0.3118 - acc: 0.8846 - val_loss: 0.3973 - val_acc: 0.8621\n",
      "Epoch 7/50\n",
      "0s - loss: 0.2850 - acc: 0.8932 - val_loss: 0.2149 - val_acc: 0.9655\n",
      "Epoch 8/50\n",
      "0s - loss: 0.2427 - acc: 0.9231 - val_loss: 0.2858 - val_acc: 0.9138\n",
      "Epoch 9/50\n",
      "0s - loss: 0.2461 - acc: 0.9060 - val_loss: 0.2833 - val_acc: 0.9224\n",
      "Epoch 10/50\n",
      "0s - loss: 0.2076 - acc: 0.9274 - val_loss: 0.1772 - val_acc: 0.9655\n",
      "Epoch 11/50\n",
      "0s - loss: 0.1841 - acc: 0.9402 - val_loss: 0.1528 - val_acc: 0.9655\n",
      "Epoch 12/50\n",
      "0s - loss: 0.1752 - acc: 0.9487 - val_loss: 0.1003 - val_acc: 0.9741\n",
      "Epoch 13/50\n",
      "0s - loss: 0.1947 - acc: 0.9274 - val_loss: 0.3416 - val_acc: 0.8534\n",
      "Epoch 14/50\n",
      "0s - loss: 0.1661 - acc: 0.9359 - val_loss: 0.1387 - val_acc: 0.9741\n",
      "Epoch 15/50\n",
      "0s - loss: 0.1489 - acc: 0.9487 - val_loss: 0.1655 - val_acc: 0.9741\n",
      "Epoch 16/50\n",
      "0s - loss: 0.1416 - acc: 0.9444 - val_loss: 0.1216 - val_acc: 0.9828\n",
      "Epoch 17/50\n",
      "0s - loss: 0.1350 - acc: 0.9530 - val_loss: 0.1090 - val_acc: 0.9914\n",
      "Epoch 18/50\n",
      "0s - loss: 0.1303 - acc: 0.9573 - val_loss: 0.1509 - val_acc: 0.9741\n",
      "Epoch 19/50\n",
      "0s - loss: 0.1219 - acc: 0.9615 - val_loss: 0.0997 - val_acc: 0.9828\n",
      "Epoch 20/50\n",
      "0s - loss: 0.1202 - acc: 0.9573 - val_loss: 0.1231 - val_acc: 0.9828\n",
      "Epoch 21/50\n",
      "0s - loss: 0.1141 - acc: 0.9615 - val_loss: 0.0953 - val_acc: 0.9828\n",
      "Epoch 22/50\n",
      "0s - loss: 0.1212 - acc: 0.9573 - val_loss: 0.0867 - val_acc: 0.9828\n",
      "Epoch 23/50\n",
      "0s - loss: 0.1101 - acc: 0.9701 - val_loss: 0.1530 - val_acc: 0.9828\n",
      "Epoch 24/50\n",
      "0s - loss: 0.1047 - acc: 0.9701 - val_loss: 0.1026 - val_acc: 0.9828\n",
      "Epoch 25/50\n",
      "0s - loss: 0.0995 - acc: 0.9744 - val_loss: 0.0906 - val_acc: 0.9828\n",
      "Epoch 26/50\n",
      "0s - loss: 0.1050 - acc: 0.9615 - val_loss: 0.0820 - val_acc: 0.9828\n",
      "Epoch 27/50\n",
      "0s - loss: 0.1049 - acc: 0.9701 - val_loss: 0.0978 - val_acc: 0.9828\n",
      "Epoch 28/50\n",
      "0s - loss: 0.0925 - acc: 0.9744 - val_loss: 0.1069 - val_acc: 0.9741\n",
      "Epoch 29/50\n",
      "0s - loss: 0.0907 - acc: 0.9786 - val_loss: 0.0888 - val_acc: 0.9828\n",
      "Epoch 30/50\n",
      "0s - loss: 0.0879 - acc: 0.9744 - val_loss: 0.0776 - val_acc: 0.9828\n",
      "Epoch 31/50\n",
      "0s - loss: 0.0852 - acc: 0.9744 - val_loss: 0.1261 - val_acc: 0.9828\n",
      "Epoch 32/50\n",
      "0s - loss: 0.0848 - acc: 0.9786 - val_loss: 0.0759 - val_acc: 0.9828\n",
      "Epoch 33/50\n",
      "0s - loss: 0.0831 - acc: 0.9744 - val_loss: 0.0812 - val_acc: 0.9828\n",
      "Epoch 34/50\n",
      "0s - loss: 0.0836 - acc: 0.9744 - val_loss: 0.1026 - val_acc: 0.9741\n",
      "Epoch 35/50\n",
      "0s - loss: 0.0801 - acc: 0.9829 - val_loss: 0.0888 - val_acc: 0.9828\n",
      "Epoch 36/50\n",
      "0s - loss: 0.0742 - acc: 0.9829 - val_loss: 0.0873 - val_acc: 0.9828\n",
      "Epoch 37/50\n",
      "0s - loss: 0.0728 - acc: 0.9786 - val_loss: 0.0749 - val_acc: 0.9828\n",
      "Epoch 38/50\n",
      "0s - loss: 0.0715 - acc: 0.9829 - val_loss: 0.0809 - val_acc: 0.9828\n",
      "Epoch 39/50\n",
      "0s - loss: 0.0707 - acc: 0.9786 - val_loss: 0.0811 - val_acc: 0.9828\n",
      "Epoch 40/50\n",
      "0s - loss: 0.0675 - acc: 0.9786 - val_loss: 0.0740 - val_acc: 0.9828\n",
      "Epoch 41/50\n",
      "0s - loss: 0.0696 - acc: 0.9829 - val_loss: 0.0978 - val_acc: 0.9741\n",
      "Epoch 42/50\n",
      "0s - loss: 0.0676 - acc: 0.9829 - val_loss: 0.0795 - val_acc: 0.9828\n",
      "Epoch 43/50\n",
      "0s - loss: 0.0642 - acc: 0.9829 - val_loss: 0.0784 - val_acc: 0.9828\n",
      "Epoch 44/50\n",
      "0s - loss: 0.0647 - acc: 0.9829 - val_loss: 0.0813 - val_acc: 0.9914\n",
      "Epoch 45/50\n",
      "0s - loss: 0.0633 - acc: 0.9786 - val_loss: 0.0818 - val_acc: 0.9914\n",
      "Epoch 46/50\n",
      "0s - loss: 0.0603 - acc: 0.9829 - val_loss: 0.0734 - val_acc: 0.9828\n",
      "Epoch 47/50\n",
      "0s - loss: 0.0612 - acc: 0.9872 - val_loss: 0.0666 - val_acc: 0.9828\n",
      "Epoch 48/50\n",
      "0s - loss: 0.0595 - acc: 0.9829 - val_loss: 0.0875 - val_acc: 0.9914\n",
      "Epoch 49/50\n",
      "0s - loss: 0.0630 - acc: 0.9872 - val_loss: 0.0749 - val_acc: 0.9828\n",
      "Epoch 50/50\n",
      "0s - loss: 0.0573 - acc: 0.9872 - val_loss: 0.0803 - val_acc: 0.9914\n"
     ]
    },
    {
     "data": {
      "text/plain": [
       "<keras.callbacks.History at 0x7fb012290d50>"
      ]
     },
     "execution_count": 13,
     "metadata": {},
     "output_type": "execute_result"
    }
   ],
   "source": [
    "# Fit the model\n",
    "model.fit(X, Y, validation_split=0.33, epochs=epochs, batch_size=28, verbose=2)"
   ]
  },
  {
   "cell_type": "code",
   "execution_count": null,
   "metadata": {
    "collapsed": true
   },
   "outputs": [],
   "source": []
  }
 ],
 "metadata": {
  "kernelspec": {
   "display_name": "Python 2",
   "language": "python",
   "name": "python2"
  },
  "language_info": {
   "codemirror_mode": {
    "name": "ipython",
    "version": 2
   },
   "file_extension": ".py",
   "mimetype": "text/x-python",
   "name": "python",
   "nbconvert_exporter": "python",
   "pygments_lexer": "ipython2",
   "version": "2.7.12"
  }
 },
 "nbformat": 4,
 "nbformat_minor": 0
}
