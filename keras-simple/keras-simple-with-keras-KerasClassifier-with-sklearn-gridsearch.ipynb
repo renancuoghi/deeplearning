{
 "cells": [
  {
   "cell_type": "code",
   "execution_count": 10,
   "metadata": {
    "collapsed": false
   },
   "outputs": [],
   "source": [
    "from keras.models import Sequential\n",
    "#Fully connected layers are defined using the Dense class\n",
    "from keras.layers import Dense\n",
    "from keras.wrappers.scikit_learn import KerasClassifier\n",
    "from sklearn.model_selection import GridSearchCV\n",
    "import numpy\n",
    "# fix random seed for reproducibility\n",
    "seed = 7\n",
    "numpy.random.seed(seed)"
   ]
  },
  {
   "cell_type": "code",
   "execution_count": 11,
   "metadata": {
    "collapsed": true
   },
   "outputs": [],
   "source": [
    "# loading data\n",
    "# load pima indians dataset\n",
    "dataset = numpy.loadtxt(\"../datasets/pima-indians-diabetes.csv\", delimiter=\",\")"
   ]
  },
  {
   "cell_type": "code",
   "execution_count": 12,
   "metadata": {
    "collapsed": false
   },
   "outputs": [
    {
     "name": "stdout",
     "output_type": "stream",
     "text": [
      "(768, 8)\n",
      "[ 0.  1.]\n"
     ]
    }
   ],
   "source": [
    "X = dataset[:,0:8]\n",
    "Y = dataset[:,8]\n",
    "print X.shape\n",
    "print numpy.unique(Y)"
   ]
  },
  {
   "cell_type": "markdown",
   "metadata": {},
   "source": [
    "## Define the model"
   ]
  },
  {
   "cell_type": "code",
   "execution_count": 19,
   "metadata": {
    "collapsed": true
   },
   "outputs": [],
   "source": [
    "def createModel(optimizer= 'rmsprop' , init= 'glorot_uniform' ):\n",
    "    # create model\n",
    "    model = Sequential()\n",
    "    model.add(Dense(12, input_dim=8, kernel_initializer=init, activation= 'relu' ))\n",
    "    model.add(Dense(8, kernel_initializer=init, activation= 'relu' ))\n",
    "    model.add(Dense(1, kernel_initializer=init, activation= 'sigmoid' ))\n",
    "    # Compile model\n",
    "    model.compile(loss= 'binary_crossentropy' , optimizer=optimizer, metrics=[ 'accuracy' ])\n",
    "    return model"
   ]
  },
  {
   "cell_type": "markdown",
   "metadata": {},
   "source": [
    "## Initialize model"
   ]
  },
  {
   "cell_type": "code",
   "execution_count": 20,
   "metadata": {
    "collapsed": false
   },
   "outputs": [],
   "source": [
    "# create model\n",
    "model = KerasClassifier(build_fn=createModel, epochs=150, batch_size=10, verbose=0)\n"
   ]
  },
  {
   "cell_type": "markdown",
   "metadata": {},
   "source": [
    "## GridSearch"
   ]
  },
  {
   "cell_type": "code",
   "execution_count": 21,
   "metadata": {
    "collapsed": false
   },
   "outputs": [],
   "source": [
    "# grid search epochs, batch size and optimizer\n",
    "optimizers = [ 'rmsprop' , 'adam' ]\n",
    "inits = [ 'glorot_uniform' , 'normal' , 'uniform' ]\n",
    "epochs = [50, 100, 150]\n",
    "batches = [5, 10, 20]\n",
    "param_grid = dict(optimizer=optimizers, epochs=epochs, batch_size=batches, init=inits)\n",
    "grid = GridSearchCV(estimator=model, param_grid=param_grid)\n",
    "grid_result = grid.fit(X, Y)"
   ]
  },
  {
   "cell_type": "markdown",
   "metadata": {
    "collapsed": true
   },
   "source": [
    "## GridSearch results"
   ]
  },
  {
   "cell_type": "code",
   "execution_count": 24,
   "metadata": {
    "collapsed": false
   },
   "outputs": [
    {
     "name": "stdout",
     "output_type": "stream",
     "text": [
      "Best: 0.756510 using {'epochs': 150, 'init': 'uniform', 'optimizer': 'rmsprop', 'batch_size': 5}\n",
      "0.688802 (0.011201) with: {'epochs': 50, 'init': 'glorot_uniform', 'optimizer': 'rmsprop', 'batch_size': 5}\n",
      "0.664063 (0.038273) with: {'epochs': 50, 'init': 'glorot_uniform', 'optimizer': 'adam', 'batch_size': 5}\n",
      "0.700521 (0.015733) with: {'epochs': 50, 'init': 'normal', 'optimizer': 'rmsprop', 'batch_size': 5}\n",
      "0.712240 (0.008027) with: {'epochs': 50, 'init': 'normal', 'optimizer': 'adam', 'batch_size': 5}\n",
      "0.718750 (0.006379) with: {'epochs': 50, 'init': 'uniform', 'optimizer': 'rmsprop', 'batch_size': 5}\n",
      "0.714844 (0.011500) with: {'epochs': 50, 'init': 'uniform', 'optimizer': 'adam', 'batch_size': 5}\n",
      "0.697917 (0.016367) with: {'epochs': 100, 'init': 'glorot_uniform', 'optimizer': 'rmsprop', 'batch_size': 5}\n",
      "0.670573 (0.040637) with: {'epochs': 100, 'init': 'glorot_uniform', 'optimizer': 'adam', 'batch_size': 5}\n",
      "0.731771 (0.022402) with: {'epochs': 100, 'init': 'normal', 'optimizer': 'rmsprop', 'batch_size': 5}\n",
      "0.727865 (0.017566) with: {'epochs': 100, 'init': 'normal', 'optimizer': 'adam', 'batch_size': 5}\n",
      "0.733073 (0.015733) with: {'epochs': 100, 'init': 'uniform', 'optimizer': 'rmsprop', 'batch_size': 5}\n",
      "0.744792 (0.028940) with: {'epochs': 100, 'init': 'uniform', 'optimizer': 'adam', 'batch_size': 5}\n",
      "0.701823 (0.045256) with: {'epochs': 150, 'init': 'glorot_uniform', 'optimizer': 'rmsprop', 'batch_size': 5}\n",
      "0.703125 (0.042910) with: {'epochs': 150, 'init': 'glorot_uniform', 'optimizer': 'adam', 'batch_size': 5}\n",
      "0.735677 (0.016367) with: {'epochs': 150, 'init': 'normal', 'optimizer': 'rmsprop', 'batch_size': 5}\n",
      "0.752604 (0.017566) with: {'epochs': 150, 'init': 'normal', 'optimizer': 'adam', 'batch_size': 5}\n",
      "0.756510 (0.004872) with: {'epochs': 150, 'init': 'uniform', 'optimizer': 'rmsprop', 'batch_size': 5}\n",
      "0.750000 (0.022326) with: {'epochs': 150, 'init': 'uniform', 'optimizer': 'adam', 'batch_size': 5}\n",
      "0.660156 (0.033146) with: {'epochs': 50, 'init': 'glorot_uniform', 'optimizer': 'rmsprop', 'batch_size': 10}\n",
      "0.645833 (0.013279) with: {'epochs': 50, 'init': 'glorot_uniform', 'optimizer': 'adam', 'batch_size': 10}\n",
      "0.687500 (0.016573) with: {'epochs': 50, 'init': 'normal', 'optimizer': 'rmsprop', 'batch_size': 10}\n",
      "0.694010 (0.017566) with: {'epochs': 50, 'init': 'normal', 'optimizer': 'adam', 'batch_size': 10}\n",
      "0.701823 (0.025582) with: {'epochs': 50, 'init': 'uniform', 'optimizer': 'rmsprop', 'batch_size': 10}\n",
      "0.703125 (0.013902) with: {'epochs': 50, 'init': 'uniform', 'optimizer': 'adam', 'batch_size': 10}\n",
      "0.673177 (0.027498) with: {'epochs': 100, 'init': 'glorot_uniform', 'optimizer': 'rmsprop', 'batch_size': 10}\n",
      "0.557292 (0.166534) with: {'epochs': 100, 'init': 'glorot_uniform', 'optimizer': 'adam', 'batch_size': 10}\n",
      "0.713542 (0.018136) with: {'epochs': 100, 'init': 'normal', 'optimizer': 'rmsprop', 'batch_size': 10}\n",
      "0.736979 (0.018136) with: {'epochs': 100, 'init': 'normal', 'optimizer': 'adam', 'batch_size': 10}\n",
      "0.738281 (0.005524) with: {'epochs': 100, 'init': 'uniform', 'optimizer': 'rmsprop', 'batch_size': 10}\n",
      "0.700521 (0.009744) with: {'epochs': 100, 'init': 'uniform', 'optimizer': 'adam', 'batch_size': 10}\n",
      "0.695313 (0.009568) with: {'epochs': 150, 'init': 'glorot_uniform', 'optimizer': 'rmsprop', 'batch_size': 10}\n",
      "0.688802 (0.009207) with: {'epochs': 150, 'init': 'glorot_uniform', 'optimizer': 'adam', 'batch_size': 10}\n",
      "0.736979 (0.020752) with: {'epochs': 150, 'init': 'normal', 'optimizer': 'rmsprop', 'batch_size': 10}\n",
      "0.714844 (0.003189) with: {'epochs': 150, 'init': 'normal', 'optimizer': 'adam', 'batch_size': 10}\n",
      "0.744792 (0.014382) with: {'epochs': 150, 'init': 'uniform', 'optimizer': 'rmsprop', 'batch_size': 10}\n",
      "0.747396 (0.027126) with: {'epochs': 150, 'init': 'uniform', 'optimizer': 'adam', 'batch_size': 10}\n",
      "0.588542 (0.145787) with: {'epochs': 50, 'init': 'glorot_uniform', 'optimizer': 'rmsprop', 'batch_size': 20}\n",
      "0.670573 (0.020505) with: {'epochs': 50, 'init': 'glorot_uniform', 'optimizer': 'adam', 'batch_size': 20}\n",
      "0.671875 (0.014616) with: {'epochs': 50, 'init': 'normal', 'optimizer': 'rmsprop', 'batch_size': 20}\n",
      "0.696615 (0.027866) with: {'epochs': 50, 'init': 'normal', 'optimizer': 'adam', 'batch_size': 20}\n",
      "0.690104 (0.012075) with: {'epochs': 50, 'init': 'uniform', 'optimizer': 'rmsprop', 'batch_size': 20}\n",
      "0.695312 (0.003189) with: {'epochs': 50, 'init': 'uniform', 'optimizer': 'adam', 'batch_size': 20}\n",
      "0.662760 (0.037240) with: {'epochs': 100, 'init': 'glorot_uniform', 'optimizer': 'rmsprop', 'batch_size': 20}\n",
      "0.686198 (0.020752) with: {'epochs': 100, 'init': 'glorot_uniform', 'optimizer': 'adam', 'batch_size': 20}\n",
      "0.712240 (0.011201) with: {'epochs': 100, 'init': 'normal', 'optimizer': 'rmsprop', 'batch_size': 20}\n",
      "0.703125 (0.016573) with: {'epochs': 100, 'init': 'normal', 'optimizer': 'adam', 'batch_size': 20}\n",
      "0.718750 (0.016877) with: {'epochs': 100, 'init': 'uniform', 'optimizer': 'rmsprop', 'batch_size': 20}\n",
      "0.717448 (0.012890) with: {'epochs': 100, 'init': 'uniform', 'optimizer': 'adam', 'batch_size': 20}\n",
      "0.678385 (0.016053) with: {'epochs': 150, 'init': 'glorot_uniform', 'optimizer': 'rmsprop', 'batch_size': 20}\n",
      "0.709635 (0.015733) with: {'epochs': 150, 'init': 'glorot_uniform', 'optimizer': 'adam', 'batch_size': 20}\n",
      "0.729167 (0.028940) with: {'epochs': 150, 'init': 'normal', 'optimizer': 'rmsprop', 'batch_size': 20}\n",
      "0.721354 (0.047771) with: {'epochs': 150, 'init': 'normal', 'optimizer': 'adam', 'batch_size': 20}\n",
      "0.722656 (0.017758) with: {'epochs': 150, 'init': 'uniform', 'optimizer': 'rmsprop', 'batch_size': 20}\n",
      "0.733073 (0.003683) with: {'epochs': 150, 'init': 'uniform', 'optimizer': 'adam', 'batch_size': 20}\n"
     ]
    }
   ],
   "source": [
    "print(\"Best: %f using %s\" % (grid_result.best_score_, grid_result.best_params_))\n",
    "means = grid_result.cv_results_[ 'mean_test_score' ]\n",
    "stds = grid_result.cv_results_[ 'std_test_score' ]\n",
    "params = grid_result.cv_results_[ 'params' ]\n",
    "for mean, stdev, param in zip(means, stds, params):\n",
    "    print(\"%f (%f) with: %r\" % (mean, stdev, param))"
   ]
  }
 ],
 "metadata": {
  "kernelspec": {
   "display_name": "Python 2",
   "language": "python",
   "name": "python2"
  },
  "language_info": {
   "codemirror_mode": {
    "name": "ipython",
    "version": 2
   },
   "file_extension": ".py",
   "mimetype": "text/x-python",
   "name": "python",
   "nbconvert_exporter": "python",
   "pygments_lexer": "ipython2",
   "version": "2.7.12"
  }
 },
 "nbformat": 4,
 "nbformat_minor": 0
}
