{
 "cells": [
  {
   "cell_type": "code",
   "execution_count": 6,
   "metadata": {
    "collapsed": true
   },
   "outputs": [],
   "source": [
    "from keras.datasets import mnist\n",
    "import matplotlib.pyplot as plt\n",
    "import numpy\n",
    "from keras.models import Sequential\n",
    "from keras.layers import Dense\n",
    "from keras.layers import Dropout\n",
    "from keras.utils import np_utils\n",
    "\n",
    "%matplotlib inline"
   ]
  },
  {
   "cell_type": "code",
   "execution_count": 25,
   "metadata": {
    "collapsed": true
   },
   "outputs": [],
   "source": [
    "# load (downloaded if needed) the MNIST dataset\n",
    "(X_train, y_train), (X_test, y_test) = mnist.load_data()"
   ]
  },
  {
   "cell_type": "code",
   "execution_count": 7,
   "metadata": {
    "collapsed": false
   },
   "outputs": [
    {
     "data": {
      "image/png": "[encoded data removed]",
      "text/plain": [
       "<matplotlib.figure.Figure at 0x7efc8d86f390>"
      ]
     },
     "metadata": {},
     "output_type": "display_data"
    }
   ],
   "source": [
    "# plot 4 images as gray scale\n",
    "plt.subplot(221)\n",
    "plt.imshow(X_train[0], cmap=plt.get_cmap( 'gray' ))\n",
    "plt.subplot(222)\n",
    "plt.imshow(X_train[1], cmap=plt.get_cmap( 'gray' ))\n",
    "plt.subplot(223)\n",
    "plt.imshow(X_train[2], cmap=plt.get_cmap( 'gray' ))\n",
    "plt.subplot(224)\n",
    "plt.imshow(X_train[3], cmap=plt.get_cmap( 'gray' ))\n",
    "# show the plot\n",
    "plt.show()"
   ]
  },
  {
   "cell_type": "code",
   "execution_count": 8,
   "metadata": {
    "collapsed": true
   },
   "outputs": [],
   "source": [
    "#fix random seed\n",
    "seed = 7\n",
    "numpy.random.seed(seed)"
   ]
  },
  {
   "cell_type": "markdown",
   "metadata": {},
   "source": [
    "## Prepare dataset"
   ]
  },
  {
   "cell_type": "code",
   "execution_count": 26,
   "metadata": {
    "collapsed": false
   },
   "outputs": [
    {
     "name": "stdout",
     "output_type": "stream",
     "text": [
      "(60000, 28, 28)\n",
      "[[  0   0   0   0   0   0   0   0   0   0   0   0   0   0   0   0   0   0\n",
      "    0   0   0   0   0   0   0   0   0   0]\n",
      " [  0   0   0   0   0   0   0   0   0   0   0   0   0   0   0   0   0   0\n",
      "    0   0   0   0   0   0   0   0   0   0]\n",
      " [  0   0   0   0   0   0   0   0   0   0   0   0   0   0   0   0   0   0\n",
      "    0   0   0   0   0   0   0   0   0   0]\n",
      " [  0   0   0   0   0   0   0   0   0   0   0   0   0   0   0   0   0   0\n",
      "    0   0   0   0   0   0   0   0   0   0]\n",
      " [  0   0   0   0   0   0   0   0   0   0   0   0   0   0   0   0   0   0\n",
      "    0   0   0   0   0   0   0   0   0   0]\n",
      " [  0   0   0   0   0   0   0   0   0   0   0   0   3  18  18  18 126 136\n",
      "  175  26 166 255 247 127   0   0   0   0]\n",
      " [  0   0   0   0   0   0   0   0  30  36  94 154 170 253 253 253 253 253\n",
      "  225 172 253 242 195  64   0   0   0   0]\n",
      " [  0   0   0   0   0   0   0  49 238 253 253 253 253 253 253 253 253 251\n",
      "   93  82  82  56  39   0   0   0   0   0]\n",
      " [  0   0   0   0   0   0   0  18 219 253 253 253 253 253 198 182 247 241\n",
      "    0   0   0   0   0   0   0   0   0   0]\n",
      " [  0   0   0   0   0   0   0   0  80 156 107 253 253 205  11   0  43 154\n",
      "    0   0   0   0   0   0   0   0   0   0]\n",
      " [  0   0   0   0   0   0   0   0   0  14   1 154 253  90   0   0   0   0\n",
      "    0   0   0   0   0   0   0   0   0   0]\n",
      " [  0   0   0   0   0   0   0   0   0   0   0 139 253 190   2   0   0   0\n",
      "    0   0   0   0   0   0   0   0   0   0]\n",
      " [  0   0   0   0   0   0   0   0   0   0   0  11 190 253  70   0   0   0\n",
      "    0   0   0   0   0   0   0   0   0   0]\n",
      " [  0   0   0   0   0   0   0   0   0   0   0   0  35 241 225 160 108   1\n",
      "    0   0   0   0   0   0   0   0   0   0]\n",
      " [  0   0   0   0   0   0   0   0   0   0   0   0   0  81 240 253 253 119\n",
      "   25   0   0   0   0   0   0   0   0   0]\n",
      " [  0   0   0   0   0   0   0   0   0   0   0   0   0   0  45 186 253 253\n",
      "  150  27   0   0   0   0   0   0   0   0]\n",
      " [  0   0   0   0   0   0   0   0   0   0   0   0   0   0   0  16  93 252\n",
      "  253 187   0   0   0   0   0   0   0   0]\n",
      " [  0   0   0   0   0   0   0   0   0   0   0   0   0   0   0   0   0 249\n",
      "  253 249  64   0   0   0   0   0   0   0]\n",
      " [  0   0   0   0   0   0   0   0   0   0   0   0   0   0  46 130 183 253\n",
      "  253 207   2   0   0   0   0   0   0   0]\n",
      " [  0   0   0   0   0   0   0   0   0   0   0   0  39 148 229 253 253 253\n",
      "  250 182   0   0   0   0   0   0   0   0]\n",
      " [  0   0   0   0   0   0   0   0   0   0  24 114 221 253 253 253 253 201\n",
      "   78   0   0   0   0   0   0   0   0   0]\n",
      " [  0   0   0   0   0   0   0   0  23  66 213 253 253 253 253 198  81   2\n",
      "    0   0   0   0   0   0   0   0   0   0]\n",
      " [  0   0   0   0   0   0  18 171 219 253 253 253 253 195  80   9   0   0\n",
      "    0   0   0   0   0   0   0   0   0   0]\n",
      " [  0   0   0   0  55 172 226 253 253 253 253 244 133  11   0   0   0   0\n",
      "    0   0   0   0   0   0   0   0   0   0]\n",
      " [  0   0   0   0 136 253 253 253 212 135 132  16   0   0   0   0   0   0\n",
      "    0   0   0   0   0   0   0   0   0   0]\n",
      " [  0   0   0   0   0   0   0   0   0   0   0   0   0   0   0   0   0   0\n",
      "    0   0   0   0   0   0   0   0   0   0]\n",
      " [  0   0   0   0   0   0   0   0   0   0   0   0   0   0   0   0   0   0\n",
      "    0   0   0   0   0   0   0   0   0   0]\n",
      " [  0   0   0   0   0   0   0   0   0   0   0   0   0   0   0   0   0   0\n",
      "    0   0   0   0   0   0   0   0   0   0]]\n",
      "num pixels per image :  784\n"
     ]
    }
   ],
   "source": [
    "#reduce the images to a vector of pixels\n",
    "print(X_train.shape)\n",
    "print(X_train[0])\n",
    "#flatten 28*28 images to a 784 vector for each image\n",
    "num_pixels = X_train.shape[1] * X_train.shape[2]\n",
    "print \"num pixels per image : \", num_pixels\n",
    "X_train = X_train.reshape(X_train.shape[0],num_pixels).astype('float32')\n",
    "X_test = X_test.reshape(X_test.shape[0],num_pixels).astype('float32')\n"
   ]
  },
  {
   "cell_type": "code",
   "execution_count": 27,
   "metadata": {
    "collapsed": false
   },
   "outputs": [
    {
     "name": "stdout",
     "output_type": "stream",
     "text": [
      "[   0.    0.    0.    0.    0.    0.    0.    0.    0.    0.    0.    0.\n",
      "    0.    0.    0.    0.    0.    0.    0.    0.    0.    0.    0.    0.\n",
      "    0.    0.    0.    0.    0.    0.    0.    0.    0.    0.    0.    0.\n",
      "    0.    0.    0.    0.    0.    0.    0.    0.    0.    0.    0.    0.\n",
      "    0.    0.    0.    0.    0.    0.    0.    0.    0.    0.    0.    0.\n",
      "    0.    0.    0.    0.    0.    0.    0.    0.    0.    0.    0.    0.\n",
      "    0.    0.    0.    0.    0.    0.    0.    0.    0.    0.    0.    0.\n",
      "    0.    0.    0.    0.    0.    0.    0.    0.    0.    0.    0.    0.\n",
      "    0.    0.    0.    0.    0.    0.    0.    0.    0.    0.    0.    0.\n",
      "    0.    0.    0.    0.    0.    0.    0.    0.    0.    0.    0.    0.\n",
      "    0.    0.    0.    0.    0.    0.    0.    0.    0.    0.    0.    0.\n",
      "    0.    0.    0.    0.    0.    0.    0.    0.    0.    0.    0.    0.\n",
      "    0.    0.    0.    0.    0.    0.    0.    0.    3.   18.   18.   18.\n",
      "  126.  136.  175.   26.  166.  255.  247.  127.    0.    0.    0.    0.\n",
      "    0.    0.    0.    0.    0.    0.    0.    0.   30.   36.   94.  154.\n",
      "  170.  253.  253.  253.  253.  253.  225.  172.  253.  242.  195.   64.\n",
      "    0.    0.    0.    0.    0.    0.    0.    0.    0.    0.    0.   49.\n",
      "  238.  253.  253.  253.  253.  253.  253.  253.  253.  251.   93.   82.\n",
      "   82.   56.   39.    0.    0.    0.    0.    0.    0.    0.    0.    0.\n",
      "    0.    0.    0.   18.  219.  253.  253.  253.  253.  253.  198.  182.\n",
      "  247.  241.    0.    0.    0.    0.    0.    0.    0.    0.    0.    0.\n",
      "    0.    0.    0.    0.    0.    0.    0.    0.   80.  156.  107.  253.\n",
      "  253.  205.   11.    0.   43.  154.    0.    0.    0.    0.    0.    0.\n",
      "    0.    0.    0.    0.    0.    0.    0.    0.    0.    0.    0.    0.\n",
      "    0.   14.    1.  154.  253.   90.    0.    0.    0.    0.    0.    0.\n",
      "    0.    0.    0.    0.    0.    0.    0.    0.    0.    0.    0.    0.\n",
      "    0.    0.    0.    0.    0.    0.    0.  139.  253.  190.    2.    0.\n",
      "    0.    0.    0.    0.    0.    0.    0.    0.    0.    0.    0.    0.\n",
      "    0.    0.    0.    0.    0.    0.    0.    0.    0.    0.    0.   11.\n",
      "  190.  253.   70.    0.    0.    0.    0.    0.    0.    0.    0.    0.\n",
      "    0.    0.    0.    0.    0.    0.    0.    0.    0.    0.    0.    0.\n",
      "    0.    0.    0.    0.   35.  241.  225.  160.  108.    1.    0.    0.\n",
      "    0.    0.    0.    0.    0.    0.    0.    0.    0.    0.    0.    0.\n",
      "    0.    0.    0.    0.    0.    0.    0.    0.    0.   81.  240.  253.\n",
      "  253.  119.   25.    0.    0.    0.    0.    0.    0.    0.    0.    0.\n",
      "    0.    0.    0.    0.    0.    0.    0.    0.    0.    0.    0.    0.\n",
      "    0.    0.   45.  186.  253.  253.  150.   27.    0.    0.    0.    0.\n",
      "    0.    0.    0.    0.    0.    0.    0.    0.    0.    0.    0.    0.\n",
      "    0.    0.    0.    0.    0.    0.    0.   16.   93.  252.  253.  187.\n",
      "    0.    0.    0.    0.    0.    0.    0.    0.    0.    0.    0.    0.\n",
      "    0.    0.    0.    0.    0.    0.    0.    0.    0.    0.    0.    0.\n",
      "    0.  249.  253.  249.   64.    0.    0.    0.    0.    0.    0.    0.\n",
      "    0.    0.    0.    0.    0.    0.    0.    0.    0.    0.    0.    0.\n",
      "    0.    0.   46.  130.  183.  253.  253.  207.    2.    0.    0.    0.\n",
      "    0.    0.    0.    0.    0.    0.    0.    0.    0.    0.    0.    0.\n",
      "    0.    0.    0.    0.   39.  148.  229.  253.  253.  253.  250.  182.\n",
      "    0.    0.    0.    0.    0.    0.    0.    0.    0.    0.    0.    0.\n",
      "    0.    0.    0.    0.    0.    0.   24.  114.  221.  253.  253.  253.\n",
      "  253.  201.   78.    0.    0.    0.    0.    0.    0.    0.    0.    0.\n",
      "    0.    0.    0.    0.    0.    0.    0.    0.   23.   66.  213.  253.\n",
      "  253.  253.  253.  198.   81.    2.    0.    0.    0.    0.    0.    0.\n",
      "    0.    0.    0.    0.    0.    0.    0.    0.    0.    0.   18.  171.\n",
      "  219.  253.  253.  253.  253.  195.   80.    9.    0.    0.    0.    0.\n",
      "    0.    0.    0.    0.    0.    0.    0.    0.    0.    0.    0.    0.\n",
      "   55.  172.  226.  253.  253.  253.  253.  244.  133.   11.    0.    0.\n",
      "    0.    0.    0.    0.    0.    0.    0.    0.    0.    0.    0.    0.\n",
      "    0.    0.    0.    0.  136.  253.  253.  253.  212.  135.  132.   16.\n",
      "    0.    0.    0.    0.    0.    0.    0.    0.    0.    0.    0.    0.\n",
      "    0.    0.    0.    0.    0.    0.    0.    0.    0.    0.    0.    0.\n",
      "    0.    0.    0.    0.    0.    0.    0.    0.    0.    0.    0.    0.\n",
      "    0.    0.    0.    0.    0.    0.    0.    0.    0.    0.    0.    0.\n",
      "    0.    0.    0.    0.    0.    0.    0.    0.    0.    0.    0.    0.\n",
      "    0.    0.    0.    0.    0.    0.    0.    0.    0.    0.    0.    0.\n",
      "    0.    0.    0.    0.    0.    0.    0.    0.    0.    0.    0.    0.\n",
      "    0.    0.    0.    0.    0.    0.    0.    0.    0.    0.    0.    0.\n",
      "    0.    0.    0.    0.]\n"
     ]
    }
   ],
   "source": [
    "print(X_train[0])"
   ]
  },
  {
   "cell_type": "code",
   "execution_count": 28,
   "metadata": {
    "collapsed": true
   },
   "outputs": [],
   "source": [
    "#normalize, gray scale is between 0 and 255\n",
    "X_train = X_train / 255\n",
    "X_test = X_test / 255"
   ]
  },
  {
   "cell_type": "code",
   "execution_count": 31,
   "metadata": {
    "collapsed": false
   },
   "outputs": [
    {
     "name": "stdout",
     "output_type": "stream",
     "text": [
      "[5 0 4 ..., 5 6 8]\n",
      "[[ 0.  0.  0. ...,  0.  0.  0.]\n",
      " [ 1.  0.  0. ...,  0.  0.  0.]\n",
      " [ 0.  0.  0. ...,  0.  0.  0.]\n",
      " ..., \n",
      " [ 0.  0.  0. ...,  0.  0.  0.]\n",
      " [ 0.  0.  0. ...,  0.  0.  0.]\n",
      " [ 0.  0.  0. ...,  0.  1.  0.]]\n",
      "10\n"
     ]
    }
   ],
   "source": [
    "# one hot encode outputs (the output is an integer from 0 to 9, multiclass classification)\n",
    "print y_train\n",
    "y_train = np_utils.to_categorical(y_train)\n",
    "print y_train\n",
    "y_test = np_utils.to_categorical(y_test)\n",
    "num_classes = y_test.shape[1]\n",
    "print num_classes"
   ]
  },
  {
   "cell_type": "markdown",
   "metadata": {},
   "source": [
    "## Simple neural network"
   ]
  },
  {
   "cell_type": "code",
   "execution_count": 33,
   "metadata": {
    "collapsed": true
   },
   "outputs": [],
   "source": [
    "#define baseline model\n",
    "def baseline_model():\n",
    "    #create model\n",
    "    model = Sequential()\n",
    "    model.add(Dense(num_pixels,input_dim=num_pixels,kernel_initializer='normal',activation='relu'))\n",
    "    model.add(Dense(num_classes,kernel_initializer='normal',activation='softmax'))\n",
    "    #compile model\n",
    "    model.compile(loss='categorical_crossentropy',optimizer='adam',metrics=['accuracy'])\n",
    "    return model"
   ]
  },
  {
   "cell_type": "code",
   "execution_count": 34,
   "metadata": {
    "collapsed": false
   },
   "outputs": [
    {
     "name": "stdout",
     "output_type": "stream",
     "text": [
      "Train on 60000 samples, validate on 10000 samples\n",
      "Epoch 1/10\n",
      "6s - loss: 0.2788 - acc: 0.9209 - val_loss: 0.1418 - val_acc: 0.9571\n",
      "Epoch 2/10\n",
      "5s - loss: 0.1118 - acc: 0.9677 - val_loss: 0.0922 - val_acc: 0.9700\n",
      "Epoch 3/10\n",
      "5s - loss: 0.0719 - acc: 0.9794 - val_loss: 0.0786 - val_acc: 0.9771\n",
      "Epoch 4/10\n",
      "6s - loss: 0.0503 - acc: 0.9858 - val_loss: 0.0746 - val_acc: 0.9768\n",
      "Epoch 5/10\n",
      "5s - loss: 0.0374 - acc: 0.9893 - val_loss: 0.0676 - val_acc: 0.9797\n",
      "Epoch 6/10\n",
      "5s - loss: 0.0269 - acc: 0.9928 - val_loss: 0.0631 - val_acc: 0.9812\n",
      "Epoch 7/10\n",
      "5s - loss: 0.0210 - acc: 0.9945 - val_loss: 0.0621 - val_acc: 0.9805\n",
      "Epoch 8/10\n",
      "6s - loss: 0.0141 - acc: 0.9968 - val_loss: 0.0626 - val_acc: 0.9806\n",
      "Epoch 9/10\n",
      "5s - loss: 0.0110 - acc: 0.9978 - val_loss: 0.0593 - val_acc: 0.9812\n",
      "Epoch 10/10\n",
      "5s - loss: 0.0079 - acc: 0.9986 - val_loss: 0.0580 - val_acc: 0.9815\n",
      "Baseline error: 1.85%\n"
     ]
    }
   ],
   "source": [
    "#build the model\n",
    "model = baseline_model()\n",
    "#fit\n",
    "model.fit(X_train,y_train,validation_data=(X_test,y_test),epochs=10,batch_size=200,verbose=2)\n",
    "#Final evaluation of the model\n",
    "scores = model.evaluate(X_test,y_test,verbose=0)\n",
    "print(\"Baseline error: %.2f%%\" % (100-scores[1]*100))"
   ]
  },
  {
   "cell_type": "markdown",
   "metadata": {},
   "source": [
    "## Simple convolutional neural network"
   ]
  },
  {
   "cell_type": "code",
   "execution_count": 35,
   "metadata": {
    "collapsed": true
   },
   "outputs": [],
   "source": [
    "from keras.layers import Flatten\n",
    "from keras.layers.convolutional import Conv2D\n",
    "from keras.layers.convolutional import MaxPooling2D\n",
    "from keras import backend as K"
   ]
  },
  {
   "cell_type": "code",
   "execution_count": 36,
   "metadata": {
    "collapsed": true
   },
   "outputs": [],
   "source": [
    "K.set_image_dim_ordering('th')"
   ]
  },
  {
   "cell_type": "code",
   "execution_count": 37,
   "metadata": {
    "collapsed": false
   },
   "outputs": [
    {
     "name": "stdout",
     "output_type": "stream",
     "text": [
      "(60000, 28, 28)\n",
      "(60000, 1, 28, 28)\n"
     ]
    }
   ],
   "source": [
    "# load data\n",
    "(X_train, y_train), (X_test, y_test) = mnist.load_data()\n",
    "print(X_train.shape)\n",
    "# reshape to be [samples][channels][width][height]\n",
    "#channels in case of images is the RGB, but on mnist is on gray scale is only 1\n",
    "X_train = X_train.reshape(X_train.shape[0], 1, 28, 28).astype( 'float32' )\n",
    "X_test = X_test.reshape(X_test.shape[0], 1, 28, 28).astype( 'float32' )\n",
    "print(X_train.shape)"
   ]
  },
  {
   "cell_type": "code",
   "execution_count": 38,
   "metadata": {
    "collapsed": true
   },
   "outputs": [],
   "source": [
    "# normalize inputs from 0-255 to 0-1\n",
    "X_train = X_train / 255\n",
    "X_test = X_test / 255\n",
    "# one hot encode outputs\n",
    "y_train = np_utils.to_categorical(y_train)\n",
    "y_test = np_utils.to_categorical(y_test)\n",
    "num_classes = y_test.shape[1]"
   ]
  },
  {
   "cell_type": "markdown",
   "metadata": {},
   "source": [
    "## CNN structure"
   ]
  },
  {
   "cell_type": "code",
   "execution_count": 40,
   "metadata": {
    "collapsed": false
   },
   "outputs": [
    {
     "data": {
      "image/png": "[encoded data removed]",
      "text/plain": [
       "<IPython.core.display.Image object>"
      ]
     },
     "execution_count": 40,
     "metadata": {},
     "output_type": "execute_result"
    }
   ],
   "source": [
    "from IPython.display import Image\n",
    "Image(filename='cnn.png') "
   ]
  },
  {
   "cell_type": "code",
   "execution_count": 43,
   "metadata": {
    "collapsed": true
   },
   "outputs": [],
   "source": [
    "def simples_cnn():\n",
    "    model = Sequential()\n",
    "    #convolutional layer with 32 features maps, 5x5 receptive field (25 pixels at a time) \n",
    "    model.add(Conv2D(32,(5,5),input_shape=(1,28,28),activation='relu'))\n",
    "    # pooling layers with 2x2\n",
    "    model.add(MaxPooling2D(pool_size=(2,2)))\n",
    "    model.add(Dropout(0.2))\n",
    "    #flatten features map (full connected )\n",
    "    model.add(Flatten())\n",
    "    #hidden layer\n",
    "    model.add(Dense(128,activation='relu'))\n",
    "    #output\n",
    "    model.add(Dense(num_classes,activation='softmax'))\n",
    "    #compile model\n",
    "    model.compile(loss='categorical_crossentropy',optimizer='adam',metrics=['accuracy'])\n",
    "    return model"
   ]
  },
  {
   "cell_type": "code",
   "execution_count": 45,
   "metadata": {
    "collapsed": false
   },
   "outputs": [
    {
     "name": "stdout",
     "output_type": "stream",
     "text": [
      "Train on 60000 samples, validate on 10000 samples\n",
      "Epoch 1/10\n",
      "54s - loss: 0.2519 - acc: 0.9275 - val_loss: 0.0791 - val_acc: 0.9759\n",
      "Epoch 2/10\n",
      "53s - loss: 0.0741 - acc: 0.9782 - val_loss: 0.0523 - val_acc: 0.9841\n",
      "Epoch 3/10\n",
      "57s - loss: 0.0510 - acc: 0.9847 - val_loss: 0.0439 - val_acc: 0.9852\n",
      "Epoch 4/10\n",
      "59s - loss: 0.0408 - acc: 0.9875 - val_loss: 0.0457 - val_acc: 0.9851\n",
      "Epoch 5/10\n",
      "63s - loss: 0.0346 - acc: 0.9896 - val_loss: 0.0381 - val_acc: 0.9874\n",
      "Epoch 6/10\n",
      "54s - loss: 0.0281 - acc: 0.9914 - val_loss: 0.0332 - val_acc: 0.9887\n",
      "Epoch 7/10\n",
      "54s - loss: 0.0241 - acc: 0.9921 - val_loss: 0.0345 - val_acc: 0.9874\n",
      "Epoch 8/10\n",
      "53s - loss: 0.0191 - acc: 0.9940 - val_loss: 0.0320 - val_acc: 0.9886\n",
      "Epoch 9/10\n",
      "53s - loss: 0.0161 - acc: 0.9947 - val_loss: 0.0346 - val_acc: 0.9893\n",
      "Epoch 10/10\n",
      "53s - loss: 0.0147 - acc: 0.9950 - val_loss: 0.0351 - val_acc: 0.9879\n"
     ]
    },
    {
     "data": {
      "text/plain": [
       "<keras.callbacks.History at 0x7efc8dd3d510>"
      ]
     },
     "execution_count": 45,
     "metadata": {},
     "output_type": "execute_result"
    }
   ],
   "source": [
    "# build the model\n",
    "model = simples_cnn()\n",
    "# Fit the model\n",
    "model.fit(X_train, y_train, validation_data=(X_test, y_test), epochs=10, batch_size=200,\n",
    "verbose=2)"
   ]
  },
  {
   "cell_type": "code",
   "execution_count": 46,
   "metadata": {
    "collapsed": false
   },
   "outputs": [
    {
     "name": "stdout",
     "output_type": "stream",
     "text": [
      "CNN Error: 1.21%\n"
     ]
    }
   ],
   "source": [
    "# Final evaluation of the model\n",
    "scores = model.evaluate(X_test, y_test, verbose=0)\n",
    "print(\"CNN Error: %.2f%%\" % (100-scores[1]*100))"
   ]
  },
  {
   "cell_type": "markdown",
   "metadata": {},
   "source": [
    "## Larger convolutional neutal network"
   ]
  },
  {
   "cell_type": "code",
   "execution_count": 47,
   "metadata": {
    "collapsed": false
   },
   "outputs": [
    {
     "data": {
      "image/png": "[encoded data removed]",
      "text/plain": [
       "<IPython.core.display.Image object>"
      ]
     },
     "execution_count": 47,
     "metadata": {},
     "output_type": "execute_result"
    }
   ],
   "source": [
    "Image(filename='cnn_larger.png') "
   ]
  },
  {
   "cell_type": "code",
   "execution_count": 48,
   "metadata": {
    "collapsed": true
   },
   "outputs": [],
   "source": [
    "def larger_model():\n",
    "    # create model\n",
    "    model = Sequential()\n",
    "    #conv layer with 30 features maps, with 5x5 receptive field\n",
    "    model.add(Conv2D(30, (5, 5), input_shape=(1, 28, 28), activation= 'relu' ))\n",
    "    # pooling layer 2x2\n",
    "    model.add(MaxPooling2D(pool_size=(2, 2)))\n",
    "    # another coonv layer, now with 15 features maps, and 3x3 receptive field\n",
    "    model.add(Conv2D(15, (3, 3), activation= 'relu' ))\n",
    "    #another pooling layer 2x2\n",
    "    model.add(MaxPooling2D(pool_size=(2, 2)))\n",
    "    #reduce ovverfitting with dropout 20%\n",
    "    model.add(Dropout(0.2))\n",
    "    #flaten layer \n",
    "    model.add(Flatten())\n",
    "    model.add(Dense(128, activation= 'relu' ))\n",
    "    model.add(Dense(50, activation= 'relu' ))\n",
    "    model.add(Dense(num_classes, activation= 'softmax' ))\n",
    "    # Compile model\n",
    "    model.compile(loss= 'categorical_crossentropy' , optimizer= 'adam' , metrics=[ 'accuracy' ])\n",
    "    return model"
   ]
  },
  {
   "cell_type": "code",
   "execution_count": 49,
   "metadata": {
    "collapsed": false
   },
   "outputs": [
    {
     "name": "stdout",
     "output_type": "stream",
     "text": [
      "Train on 60000 samples, validate on 10000 samples\n",
      "Epoch 1/10\n",
      "60000/60000 [==============================] - 57s - loss: 0.3768 - acc: 0.8827 - val_loss: 0.0870 - val_acc: 0.9723\n",
      "Epoch 2/10\n",
      "60000/60000 [==============================] - 56s - loss: 0.0971 - acc: 0.9697 - val_loss: 0.0534 - val_acc: 0.9833\n",
      "Epoch 3/10\n",
      "60000/60000 [==============================] - 56s - loss: 0.0698 - acc: 0.9780 - val_loss: 0.0433 - val_acc: 0.9858\n",
      "Epoch 4/10\n",
      "60000/60000 [==============================] - 56s - loss: 0.0567 - acc: 0.9820 - val_loss: 0.0350 - val_acc: 0.9883\n",
      "Epoch 5/10\n",
      "60000/60000 [==============================] - 55s - loss: 0.0489 - acc: 0.9844 - val_loss: 0.0307 - val_acc: 0.9895\n",
      "Epoch 6/10\n",
      "60000/60000 [==============================] - 55s - loss: 0.0424 - acc: 0.9864 - val_loss: 0.0323 - val_acc: 0.9886\n",
      "Epoch 7/10\n",
      "60000/60000 [==============================] - 55s - loss: 0.0379 - acc: 0.9881 - val_loss: 0.0288 - val_acc: 0.9902\n",
      "Epoch 8/10\n",
      "60000/60000 [==============================] - 55s - loss: 0.0341 - acc: 0.9895 - val_loss: 0.0265 - val_acc: 0.9906\n",
      "Epoch 9/10\n",
      "60000/60000 [==============================] - 56s - loss: 0.0301 - acc: 0.9900 - val_loss: 0.0237 - val_acc: 0.9916\n",
      "Epoch 10/10\n",
      "60000/60000 [==============================] - 55s - loss: 0.0282 - acc: 0.9911 - val_loss: 0.0244 - val_acc: 0.9918\n"
     ]
    },
    {
     "data": {
      "text/plain": [
       "<keras.callbacks.History at 0x7efc8d915050>"
      ]
     },
     "execution_count": 49,
     "metadata": {},
     "output_type": "execute_result"
    }
   ],
   "source": [
    "# build the model\n",
    "model = larger_model()\n",
    "# Fit the model\n",
    "model.fit(X_train, y_train, validation_data=(X_test, y_test), epochs=10, batch_size=200)\n"
   ]
  },
  {
   "cell_type": "code",
   "execution_count": 50,
   "metadata": {
    "collapsed": false
   },
   "outputs": [
    {
     "name": "stdout",
     "output_type": "stream",
     "text": [
      "Large CNN Error: 0.82%\n"
     ]
    }
   ],
   "source": [
    "# Final evaluation of the model\n",
    "scores = model.evaluate(X_test, y_test, verbose=0)\n",
    "print(\"Large CNN Error: %.2f%%\" % (100-scores[1]*100))"
   ]
  },
  {
   "cell_type": "markdown",
   "metadata": {},
   "source": [
    "## Trying with more conv layers"
   ]
  },
  {
   "cell_type": "code",
   "execution_count": 57,
   "metadata": {
    "collapsed": true
   },
   "outputs": [],
   "source": [
    "def more_larger_model():\n",
    "    # create model\n",
    "    model = Sequential()\n",
    "    #conv layer with 30 features maps, with 5x5 receptive field\n",
    "    model.add(Conv2D(30, (5, 5), input_shape=(1, 28, 28), activation= 'relu' ))\n",
    "    # pooling layer 2x2\n",
    "    model.add(MaxPooling2D(pool_size=(2, 2)))\n",
    "    # another coonv layer, now with 15 features maps, and 3x3 receptive field\n",
    "    model.add(Conv2D(15, (3, 3), activation= 'relu' ))\n",
    "    #another pooling layer 2x2\n",
    "    model.add(MaxPooling2D(pool_size=(2, 2)))\n",
    "     # another coonv layer, now with 7 features maps, and 2x2 receptive field\n",
    "    model.add(Conv2D(7, (2, 2), activation= 'relu' ))\n",
    "    #another pooling layer 2x2\n",
    "    model.add(MaxPooling2D(pool_size=(2, 2)))\n",
    "    #reduce ovverfitting with dropout 20%\n",
    "    model.add(Dropout(0.2))\n",
    "    #flaten layer \n",
    "    model.add(Flatten())\n",
    "    model.add(Dense(128, activation= 'relu' ))\n",
    "    model.add(Dense(50, activation= 'relu' ))\n",
    "    model.add(Dense(num_classes, activation= 'softmax' ))\n",
    "    # Compile model\n",
    "    model.compile(loss= 'categorical_crossentropy' , optimizer= 'adam' , metrics=[ 'accuracy' ])\n",
    "    return model"
   ]
  },
  {
   "cell_type": "code",
   "execution_count": 59,
   "metadata": {
    "collapsed": false
   },
   "outputs": [
    {
     "name": "stdout",
     "output_type": "stream",
     "text": [
      "Train on 60000 samples, validate on 10000 samples\n",
      "Epoch 1/10\n",
      "60000/60000 [==============================] - 58s - loss: 0.8574 - acc: 0.7198 - val_loss: 0.2269 - val_acc: 0.9331\n",
      "Epoch 2/10\n",
      "60000/60000 [==============================] - 57s - loss: 0.3824 - acc: 0.8778 - val_loss: 0.1615 - val_acc: 0.9526\n",
      "Epoch 3/10\n",
      "60000/60000 [==============================] - 59s - loss: 0.3070 - acc: 0.9026 - val_loss: 0.1334 - val_acc: 0.9623\n",
      "Epoch 4/10\n",
      "60000/60000 [==============================] - 57s - loss: 0.2409 - acc: 0.9230 - val_loss: 0.1066 - val_acc: 0.9674\n",
      "Epoch 5/10\n",
      "60000/60000 [==============================] - 57s - loss: 0.2121 - acc: 0.9338 - val_loss: 0.1007 - val_acc: 0.9679\n",
      "Epoch 6/10\n",
      "60000/60000 [==============================] - 57s - loss: 0.1951 - acc: 0.9382 - val_loss: 0.0825 - val_acc: 0.9753\n",
      "Epoch 7/10\n",
      "60000/60000 [==============================] - 57s - loss: 0.1816 - acc: 0.9420 - val_loss: 0.0859 - val_acc: 0.9741\n",
      "Epoch 8/10\n",
      "60000/60000 [==============================] - 57s - loss: 0.1678 - acc: 0.9474 - val_loss: 0.0766 - val_acc: 0.9757\n",
      "Epoch 9/10\n",
      "60000/60000 [==============================] - 56s - loss: 0.1632 - acc: 0.9483 - val_loss: 0.0725 - val_acc: 0.9762\n",
      "Epoch 10/10\n",
      "60000/60000 [==============================] - 58s - loss: 0.1559 - acc: 0.9501 - val_loss: 0.0758 - val_acc: 0.9749\n"
     ]
    },
    {
     "data": {
      "text/plain": [
       "<keras.callbacks.History at 0x7efbf3f650d0>"
      ]
     },
     "execution_count": 59,
     "metadata": {},
     "output_type": "execute_result"
    }
   ],
   "source": [
    "# build the model\n",
    "model = more_larger_model()\n",
    "# Fit the model\n",
    "model.fit(X_train, y_train, validation_data=(X_test, y_test), epochs=10, batch_size=200)"
   ]
  },
  {
   "cell_type": "code",
   "execution_count": 61,
   "metadata": {
    "collapsed": false
   },
   "outputs": [
    {
     "name": "stdout",
     "output_type": "stream",
     "text": [
      "More Large CNN Error: 2.51%\n"
     ]
    }
   ],
   "source": [
    "# Final evaluation of the model\n",
    "scores = model.evaluate(X_test, y_test, verbose=0)\n",
    "print(\"More Large CNN Error: %.2f%%\" % (100-scores[1]*100))"
   ]
  },
  {
   "cell_type": "code",
   "execution_count": null,
   "metadata": {
    "collapsed": true
   },
   "outputs": [],
   "source": []
  }
 ],
 "metadata": {
  "kernelspec": {
   "display_name": "Python 2",
   "language": "python",
   "name": "python2"
  },
  "language_info": {
   "codemirror_mode": {
    "name": "ipython",
    "version": 2
   },
   "file_extension": ".py",
   "mimetype": "text/x-python",
   "name": "python",
   "nbconvert_exporter": "python",
   "pygments_lexer": "ipython2",
   "version": "2.7.12"
  }
 },
 "nbformat": 4,
 "nbformat_minor": 0
}
